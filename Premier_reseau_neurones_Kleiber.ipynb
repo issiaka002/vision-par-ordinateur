{
 "cells": [
  {
   "cell_type": "markdown",
   "metadata": {
    "id": "ze91MJgymtrj"
   },
   "source": [
    "<a href=\"https://colab.research.google.com/github/ClaudeCoulombe/VIARENA/blob/master/Labos/Lab-loiDeKleiber/Premier_reseau_neurones-Kleiber.ipynb\" target=\"_blank\"><img src=\"https://colab.research.google.com/assets/colab-badge.svg\" alt=\"Open In Colab\"/></a>\n",
    "\n",
    "### Rappel - Fonctionnement d'un carnet web iPython\n",
    "\n",
    "* Pour exécuter le code contenu dans une cellule d'un carnet iPython, cliquez dans la cellule et faites (⇧↵, shift-enter) \n",
    "* Le code d'un carnet iPython s'exécute séquentiellement de haut en bas de la page. Souvent, l'importation d'une bibliothèque Python ou l'initialisation d'une variable est préalable à l'exécution d'une cellule située plus bas. Il est donc recommandé d'exécuter les cellules en séquence. Enfin, méfiez-vous des retours en arrière qui peuvent réinitialiser certaines variables."
   ]
  },
  {
   "cell_type": "markdown",
   "metadata": {
    "id": "yrC5dYHWmtrn"
   },
   "source": [
    "# Mon premier réseau de neurones avec Keras\n",
    "\n",
    "## Approximer une étrange loi de la nature directement à partir de données\n",
    "\n",
    "Vous allez créer votre premier réseau de neurones pour approximer une étrange loi de la nature directement à partir de données.\n",
    "\n",
    "La loi de Kleiber, formulée par le biologiste Max Kleiber dans les années 1930, postule que la consommation d'énergie (le métabolisme) des animaux, y compris les humains, varie comme la puissance 3/4 de leur masse corporelle. Cette loi fonctionne des bactéries jusqu'aux baleines mais demeure pour le moment sans explication physique ou géométrique satisfaisante. \n",
    "\n",
    "https://fr.wikipedia.org/wiki/Loi_de_Kleiber\n",
    "\n",
    "On peut légitimenent se questionner sur l'utilité d'un tel exercice? En fait, ce qui est «intéressant» c'est de constater que le réseau de neurones va apprendre «seul» à partir des données à approximer cette étrange loi de la nature. \n",
    "\n",
    "**Note**: Il n'est pas important de comprendre le détail du code informatique pour le moment. Ne vous inquiétez pas, des explications détaillées suivront bientôt.\n"
   ]
  },
  {
   "cell_type": "markdown",
   "metadata": {
    "id": "dY5BxPGGmtro"
   },
   "source": [
    "# Acquisition des données...\n",
    "\n",
    "### Source des données: \n",
    "http://sites.science.oregonstate.edu/~schaferd/Sleuth/data-sets.html\n",
    "\n",
    "Le **Fichier ex0826.csv** contenu dans l'archive **sleuth3csv.zip** a été renommé **LoiDeKleiber.csv** avec une entête en français\n",
    "\n",
    "Ramsey, F., & Schafer, D. (2012). The statistical sleuth: a course in methods of data analysis. Cengage Learning.\n"
   ]
  },
  {
   "cell_type": "code",
   "execution_count": null,
   "metadata": {
    "id": "qF78tm-Cmtrw"
   },
   "outputs": [],
   "source": [
    "# Création d'un répertoire pour les données\n",
    "! mkdir DATA"
   ]
  },
  {
   "cell_type": "code",
   "execution_count": null,
   "metadata": {
    "id": "KhlQhleLmtsT"
   },
   "outputs": [],
   "source": [
    "# Téléchargement des données depuis un référentiel sur le site GitHub\n",
    "! wget \"https://github.com/ClaudeCoulombe/VIARENA/blob/master/DATA/LoiDeKleiber.csv?raw=True\" -O DATA/LoiDeKleiber.csv"
   ]
  },
  {
   "cell_type": "markdown",
   "metadata": {
    "id": "U4xsS3qJmts1"
   },
   "source": [
    "# Quelques lignes de code..."
   ]
  },
  {
   "cell_type": "markdown",
   "metadata": {
    "id": "dFOiXwt9KX_w"
   },
   "source": [
    "## Importation des bibliothèques Python"
   ]
  },
  {
   "cell_type": "code",
   "execution_count": null,
   "metadata": {
    "id": "DbggB1rFmts1",
    "scrolled": false
   },
   "outputs": [],
   "source": [
    "# Importation des bibliothèques Python\n",
    "import tensorflow as tf\n",
    "import numpy as np\n",
    "import pandas as pd\n",
    "print(\"Bibliothèques importées\")"
   ]
  },
  {
   "cell_type": "markdown",
   "metadata": {
    "id": "JsRVsEdbSpqj"
   },
   "source": [
    "## Fixer le hasard pour la reproductibilité\n",
    "\n",
    "La mise au point de réseaux de neurones implique certains processus aléatoires. Afin de pouvoir reproduire et comparer vos résultats d'expérience, vous fixez temporairement l'état aléatoire grâce à un germe aléatoire unique.\n",
    "\n",
    "Pendant la mise au point, vous fixez temporairement l'état aléatoire pour la reproductibilité mais vous répétez l'expérience avec différents germes ou états aléatoires et prenez la moyenne des résultats.\n",
    "<br/>\n",
    "##### **Note**: Pour un système en production, vous ravivez simplement l'état  purement aléatoire avec l'instruction `GERME_ALEATOIRE = None`"
   ]
  },
  {
   "cell_type": "code",
   "execution_count": null,
   "metadata": {
    "id": "07WbVaa8WGAD"
   },
   "outputs": [],
   "source": [
    "import os\n",
    "\n",
    "# Définir un germe aléatoire\n",
    "GERME_ALEATOIRE = 1\n",
    "\n",
    "# Définir un état aléatoire pour Python\n",
    "os.environ['PYTHONHASHSEED'] = str(GERME_ALEATOIRE)\n",
    "\n",
    "# Définir un état aléatoire pour Python random\n",
    "import random\n",
    "random.seed(GERME_ALEATOIRE)\n",
    "\n",
    "# Définir un état aléatoire pour NumPy\n",
    "import numpy as np\n",
    "np.random.seed(GERME_ALEATOIRE)\n",
    "\n",
    "# Définir un état aléatoire pour TensorFlow\n",
    "import tensorflow as tf\n",
    "tf.random.set_seed(GERME_ALEATOIRE)\n",
    "\n",
    "os.environ['TF_DETERMINISTIC_OPS'] = '1'\n",
    "os.environ['TF_CUDNN_DETERMINISTIC'] = '1'\n",
    "\n",
    "print(\"Germe aléatoire fixé\")\n"
   ]
  },
  {
   "cell_type": "markdown",
   "metadata": {
    "id": "FBYDWIJcKrvH"
   },
   "source": [
    "## Lecture des données"
   ]
  },
  {
   "cell_type": "code",
   "execution_count": null,
   "metadata": {
    "id": "pRlx8c_2Kk6B"
   },
   "outputs": [],
   "source": [
    "# Lecture des données\n",
    "loi_kleiber_data = pd.read_csv(\"DATA/LoiDeKleiber.csv\")\n",
    "print(\"Données lues\")"
   ]
  },
  {
   "cell_type": "markdown",
   "metadata": {
    "id": "bfZolGc5LAhe"
   },
   "source": [
    "## Affichage des données"
   ]
  },
  {
   "cell_type": "code",
   "execution_count": null,
   "metadata": {
    "id": "ZVKkNmRJLF9C"
   },
   "outputs": [],
   "source": [
    "# Affichage de l'information de base sur le ju de données\n",
    "loi_kleiber_data.info()"
   ]
  },
  {
   "cell_type": "markdown",
   "metadata": {
    "id": "Lv0DjrjYHjE9"
   },
   "source": [
    "Le jeu de données comporte 95 exemples et 5 attributs: 'NomCommun', 'Espece', 'Masse', 'Metabolisme', 'DureeDeVie'[texte du lien](https://)"
   ]
  },
  {
   "cell_type": "code",
   "execution_count": null,
   "metadata": {
    "id": "8lmvuzgjHer3"
   },
   "outputs": [],
   "source": [
    "# Affichage d'un échantillon de 5 exemplaires choisis au hasard du jeu de données\n",
    "loi_kleiber_data.sample(n=5,random_state=42)\n",
    "\n",
    "# masse en kg\n",
    "# métabolisme en kJ par jour"
   ]
  },
  {
   "cell_type": "markdown",
   "metadata": {
    "id": "pES15wQaLR6I"
   },
   "source": [
    "## Prétraitement des données"
   ]
  },
  {
   "cell_type": "markdown",
   "metadata": {
    "id": "dBQa-72WLpTs"
   },
   "source": [
    "Extraction des attributs qui vont servir à la prédiction ou variables indépendantes.\n",
    "\n",
    "Rappelez-vous que nous cherchons à prédire le métabolisme à partir de la masse donc un seul attribut prédictif, la masse "
   ]
  },
  {
   "cell_type": "code",
   "execution_count": null,
   "metadata": {
    "id": "cVwX17XjKHxW"
   },
   "outputs": [],
   "source": [
    "from sklearn.preprocessing import StandardScaler\n",
    "\n",
    "# Extraction des attributs qui vont servir è la prédiction ou variables indépendantes\n",
    "# Rappelez-vous que nous cherchons à prédire le métabolisme à partir de la masse\n",
    "# donc un seul attribut prédictif, la masse  \n",
    "attribut_predictif = loi_kleiber_data['Masse'].values.reshape(-1, 1)\n",
    "# Normalisation de l'attribut-prédictif pour faciliter le travail de l'algorithme\n",
    "normalisateur_attribut_predictif = StandardScaler()\n",
    "normalisateur_attribut_predictif.fit(attribut_predictif)\n",
    "attribut_predictif = normalisateur_attribut_predictif.transform(attribut_predictif)\n",
    "print(\"Attribut prédictif extrait et normalisé\")"
   ]
  },
  {
   "cell_type": "markdown",
   "metadata": {
    "id": "ELN__plbLutc"
   },
   "source": [
    "Extraction de l'attribut que l'on cherche à prédire ou attribut-cible ou variable dépendante. \n",
    "\n",
    "Rappelez-vous que nous cherchons à prédire le métabolismemdonc un seul attribut-cible, le métabolisme\n",
    "\n"
   ]
  },
  {
   "cell_type": "code",
   "execution_count": null,
   "metadata": {
    "id": "C5EA8UO-Ltqg"
   },
   "outputs": [],
   "source": [
    "\n",
    "# Extraction de l'attribut à prédire ou attribut-cible ou variable dépendante\n",
    "# Rappelez-vous que nous cherchons à prédire le métabolisme\n",
    "# donc un seul attribut-cible, le métabolisme\n",
    "attribut_cible = loi_kleiber_data['Metabolisme'].values.reshape(-1, 1)\n",
    "# Normalisation de l'attribut-cible pour faciliter le travail de l'algorithme\n",
    "normalisateur_attribut_cible = StandardScaler()\n",
    "normalisateur_attribut_cible.fit(attribut_cible)\n",
    "attribut_cible = normalisateur_attribut_cible.transform(attribut_cible)\n",
    "print(\"Attribut-cible extrait et normalisé\")"
   ]
  },
  {
   "cell_type": "markdown",
   "metadata": {
    "id": "KnzQVj41MTEr"
   },
   "source": [
    "## Construction d'un réseau de neurones de type perceptron à trois couches: \n",
    "### couche d'entrée, couche cachée, couche de sortie"
   ]
  },
  {
   "cell_type": "code",
   "execution_count": null,
   "metadata": {
    "id": "yPzrgfaBmts2"
   },
   "outputs": [],
   "source": [
    "# Construction d'un réseau de neurones de typ percptron à trois couches: couche d'entrée, couche cachée, couche de sortie\n",
    "reseau_de_neurones = tf.keras.models.Sequential([tf.keras.layers.Dense(units=1, input_shape=[1]),\n",
    "                                                 tf.keras.layers.Dense(units=10, activation='relu'),\n",
    "                                                 tf.keras.layers.Dense(units=1)])\n",
    "# Affichage de l'architecture du réseau\n",
    "print(\"Architecture du réseau de neurones:\")\n",
    "reseau_de_neurones.summary()\n",
    "\n"
   ]
  },
  {
   "cell_type": "markdown",
   "metadata": {
    "id": "zMzpn18AMbjw"
   },
   "source": [
    "## Compilation du réseau de neurones\n",
    "### optimiseur: Adam\n",
    "### taux d'apprentissage: 0.001\n",
    "### fonction d'erreur: erreur quadratique moyenne ('mean_squared_error') \n",
    "\n"
   ]
  },
  {
   "cell_type": "code",
   "execution_count": null,
   "metadata": {
    "id": "kku470ckMyfo"
   },
   "outputs": [],
   "source": [
    "# Compilation du réseau de neurones - optimiseur: Adam, taux d'apprentissage: 0.001, fonction d'erreur: erreur quadratique moyenne (mean_squared_error) \n",
    "reseau_de_neurones.compile(optimizer=tf.keras.optimizers.Adam(learning_rate=0.001),\n",
    "                           loss='mean_squared_error')\n",
    "\n",
    "print(\"Réseau de neurones compilé\")\n"
   ]
  },
  {
   "cell_type": "markdown",
   "metadata": {
    "id": "NXGj7aOkM3uM"
   },
   "source": [
    "## Entraînement du réseau de neurones sur les données: \n",
    "### attribut_predictif et attribut_cible\n",
    "### pendant 500 itérations ou époques"
   ]
  },
  {
   "cell_type": "code",
   "execution_count": null,
   "metadata": {
    "id": "EJ_9jK5XM_tc"
   },
   "outputs": [],
   "source": [
    "# Entraînement du réseau sur les données: variable_explicative et variable_dependante, pendant 500 itérations ou époques\n",
    "traces = reseau_de_neurones.fit(attribut_predictif,attribut_cible,epochs=500,verbose=1)\n",
    "# Affichage de l'erreur à la fin de l'entraînement\n",
    "print(\"Erreur à la fin:\",traces.history['loss'][-1])"
   ]
  },
  {
   "cell_type": "markdown",
   "metadata": {
    "id": "PMnBwpDJmts8"
   },
   "source": [
    "### Test du réseau de neurones qui a été entraîné\n",
    "Vous allez valider la fonction que le réseau neuronal a apprise avec des données de test qui ne faisaient pas partie du jeu de données d'entraînement."
   ]
  },
  {
   "cell_type": "code",
   "execution_count": null,
   "metadata": {
    "id": "mAhMAOQumts8"
   },
   "outputs": [],
   "source": [
    "# Être humain, Homo sapiens\n",
    "animal = \"être humain\"\n",
    "masse = 6.50E+01\n",
    "# Normalisation des données d'entrée\n",
    "masse_normalisee = normalisateur_attribut_predictif.transform(np.array([masse]).reshape(-1, 1))\n",
    "vraie_valeur_metabolisme = 7.56E+03\n",
    "# Application du modèle en inférence ou prédiction de la variable dépendante et «dénormalisation» du résultat\n",
    "prediction_metabolisme = normalisateur_attribut_cible.inverse_transform(reseau_de_neurones.predict(masse_normalisee))[0][0]\n",
    "# Affichage de la prédiction, de la vraie valeur (mesurée) et de l'écart (ou erreur) en %\n",
    "print(\"\\nAnimal:\", animal,\n",
    "      \", Masse:\", masse,\n",
    "      \", prédiction du métabolisme:\", round(prediction_metabolisme,2),\n",
    "      \", Vraie valeur du métabolisme:\", vraie_valeur_metabolisme,\n",
    "      \", écart en %:\", round((vraie_valeur_metabolisme-prediction_metabolisme)/vraie_valeur_metabolisme*100,2),\"%\")\n"
   ]
  },
  {
   "cell_type": "code",
   "execution_count": null,
   "metadata": {
    "id": "YbNdvaEOmts_"
   },
   "outputs": [],
   "source": [
    "# Chat, Felis silvestris, 3.00E+00, 5.46E+02, 11\n",
    "animal = \"chat\"\n",
    "masse = 3.00E+00\n",
    "# Normalisation des données d'entrée\n",
    "masse_normalisee = normalisateur_attribut_predictif.transform(np.array([masse]).reshape(-1, 1))\n",
    "vraie_valeur_metabolisme = 5.46E+02\n",
    "# Application du modèle en inférence ou prédiction de l'attribut-cible et «dénormalisation» du résultat\n",
    "prediction_metabolisme = normalisateur_attribut_cible.inverse_transform(reseau_de_neurones.predict(masse_normalisee))[0][0]\n",
    "# Affichage de la prédiction, de la vraie valeur (mesurée) et de l'écart (ou erreur) en %\n",
    "print(\"\\nAnimal:\", animal,\n",
    "      \", Masse:\", masse,\n",
    "      \", prédiction du métabolisme:\", round(prediction_metabolisme,2),\n",
    "      \", Vraie valeur du métabolisme:\", vraie_valeur_metabolisme,\n",
    "      \", écart en %:\", round((vraie_valeur_metabolisme-prediction_metabolisme)/vraie_valeur_metabolisme*100,2),\"%\")\n",
    "\n"
   ]
  },
  {
   "cell_type": "code",
   "execution_count": null,
   "metadata": {
    "id": "gDOCKkxlmts_"
   },
   "outputs": [],
   "source": [
    "# Cheval, Equus cabalus, 4.00E+02, 3.20E+04, 40\n",
    "animal = \"cheval\"\n",
    "masse = 4.00E+02\n",
    "# Normalisation des données d'entrée\n",
    "masse_normalisee = normalisateur_attribut_predictif.transform(np.array([masse]).reshape(-1, 1))\n",
    "vraie_valeur_metabolisme = 3.20E+04\n",
    "# Application du modèle en inférence ou prédiction de la variable dépendante et «dénormalisation» du résultat\n",
    "prediction_metabolisme = normalisateur_attribut_cible.inverse_transform(reseau_de_neurones.predict(masse_normalisee))[0][0]\n",
    "# Affichage de la prédiction, de la vraie valeur (mesurée) et de l'écart (ou erreur) en %\n",
    "print(\"\\nAnimal:\", animal,\n",
    "      \", Masse:\", masse,\n",
    "      \", prédiction du métabolisme:\", round(prediction_metabolisme,2),\n",
    "      \", Vraie valeur du métabolisme:\", vraie_valeur_metabolisme,\n",
    "      \", écart en %:\", round((vraie_valeur_metabolisme-prediction_metabolisme)/vraie_valeur_metabolisme*100,2),\"%\")\n"
   ]
  },
  {
   "cell_type": "markdown",
   "metadata": {
    "id": "9rCGb18PmttB"
   },
   "source": [
    "### Conclusion\n",
    "\n",
    "Vous pouvez constater que le réseau de neurones retourne des valeurs assez proches des vraies valeurs données par la loi de Kleiber. Il est important de comprendre que le réseau de neurones n'apprend pas une formule exacte mais bien qu'il approxime itérativement une fonction.  \n",
    "\n",
    "Choses à retenir:\n",
    "\n",
    "* Le réseau de neurones est capable d'apprendre à approximer une fonction directement à partir des données\n",
    "* Le processus d'apprentissage est itératif\n",
    "    "
   ]
  },
  {
   "cell_type": "code",
   "execution_count": null,
   "metadata": {
    "id": "Cc553BjImttC"
   },
   "outputs": [],
   "source": [
    "print(\"Exécution du carnet web IPython terminée\")"
   ]
  },
  {
   "cell_type": "code",
   "execution_count": null,
   "metadata": {
    "id": "sqoqRQuWS-K4"
   },
   "outputs": [],
   "source": []
  }
 ],
 "metadata": {
  "colab": {
   "name": "Premier_reseau_neurones-Kleiber.ipynb",
   "provenance": []
  },
  "kernelspec": {
   "display_name": "Python 3 (ipykernel)",
   "language": "python",
   "name": "python3"
  },
  "language_info": {
   "codemirror_mode": {
    "name": "ipython",
    "version": 3
   },
   "file_extension": ".py",
   "mimetype": "text/x-python",
   "name": "python",
   "nbconvert_exporter": "python",
   "pygments_lexer": "ipython3",
   "version": "3.10.9"
  }
 },
 "nbformat": 4,
 "nbformat_minor": 1
}
