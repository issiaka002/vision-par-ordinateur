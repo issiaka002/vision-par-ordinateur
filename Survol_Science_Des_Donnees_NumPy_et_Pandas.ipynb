{
 "cells": [
  {
   "cell_type": "markdown",
   "metadata": {
    "id": "bevdMnYZdaGV"
   },
   "source": [
    "<a style=\"float:left;\" href=\"https://colab.research.google.com/github/ClaudeCoulombe/VIARENA/blob/master/Labos/Lab-TableauxDeDonn%C3%A9es/Survol_Science_Des_Donnees_NumPy_et_Pandas.ipynb\" target=\"_blank\"><img src=\"https://colab.research.google.com/assets/colab-badge.svg\" alt=\"Open In Colab\"/></a>\n",
    "<br/>\n",
    "# Rappel - Fonctionnement d'un carnet web iPython\n",
    "\n",
    "* Pour exécuter le code contenu dans une cellule d'un carnet iPython, cliquez dans la cellule et faites (⇧↵, shift-enter) \n",
    "* Le code d'un carnet iPython s'exécute séquentiellement de haut en bas de la page. Souvent, l'importation d'une bibliothèque Python ou l'initialisation d'une variable est préalable à l'exécution d'une cellule située plus bas. Il est donc recommandé d'exécuter les cellules en séquence. Enfin, méfiez-vous des retours en arrière qui peuvent réinitialiser certaines variables."
   ]
  },
  {
   "cell_type": "markdown",
   "metadata": {
    "id": "bI0mDfM2nsLb"
   },
   "source": [
    "# Introduction à NumPy et Pandas\n",
    "\n",
    "Dans son expression la plus simple, un jeu de données structurées est habituellement représenté par un tableau où les lignes correspondent aux exemplaires du jeu de données et les colonnes correspondent à leurs attributs respectifs. Les vecteurs et les matrices sont simplement la représentation mathématiques des listes et des tableaux, utilisés par les chercheurs et les ordinateurs pour réaliser des calculs avec les données. Enfin, NumPy et Pandas sont des bibliothèque du langage python qui permettent respectivement des opérations optimisées sur ces structures de données et le chargement en mémoire de grandes quantités de données sous forme de tableaux 2D."
   ]
  },
  {
   "cell_type": "markdown",
   "metadata": {
    "id": "SxeubbDspAW9"
   },
   "source": [
    "## Premier contact avec NumPy\n",
    "\n",
    "NumPy est une bibliothèque Python libre et ouverte utilisée pour les calculs scientifiques avec des données structurées sous la forme de listes et de tableaux. Essentiellement basé sur la notion de matrices, NumPy est performant et super utile pour l'analyse des données et les calculs mathématiques, par exemple en facilitant des opérations d'accès aux données, de remodelage des structures, ou de substitution des valeurs.\n",
    "\n",
    "La notion fondamentale à retenir avec NumPy est que les matrices ne sont pas compliquées. **Pour NumPy, les matrices sont essentiellement des \"tableaux de tableaux\", c'est tout.**\n"
   ]
  },
  {
   "cell_type": "markdown",
   "metadata": {
    "id": "OGdTBzTR9y8H"
   },
   "source": [
    "### Création de tableaux"
   ]
  },
  {
   "cell_type": "code",
   "execution_count": 1,
   "metadata": {
    "id": "m7ZVKwwotYvl"
   },
   "outputs": [
    {
     "name": "stdout",
     "output_type": "stream",
     "text": [
      "Bibliothèques NumPy importées\n"
     ]
    }
   ],
   "source": [
    "#Importation de la librairie Numpy.\n",
    "import numpy as np\n",
    "print(\"Bibliothèques NumPy importées\")"
   ]
  },
  {
   "cell_type": "code",
   "execution_count": 2,
   "metadata": {
    "id": "HwJBrJ8NpDgL"
   },
   "outputs": [
    {
     "name": "stdout",
     "output_type": "stream",
     "text": [
      "[1 2 3]\n",
      "(3,)\n"
     ]
    }
   ],
   "source": [
    "#Créer une liste.\n",
    "a = np.array([1,2,3])\n",
    "\n",
    "#Caractéristiques de la liste : son contenu, son type et sa forme.\n",
    "#Il s'agit d'un tableau à une dimension (une liste) contenant les trois entiers 1, 2 et 3.\n",
    "print(a)\n",
    "print(a.shape)"
   ]
  },
  {
   "cell_type": "code",
   "execution_count": 5,
   "metadata": {
    "id": "7Fwm4Oz4p4Q9"
   },
   "outputs": [
    {
     "name": "stdout",
     "output_type": "stream",
     "text": [
      "[[0 2 4]\n",
      " [1 3 5]]\n",
      "[[  1.    5.    9.    0. ]\n",
      " [  4.   10.    6.    3. ]\n",
      " [  2.   -2.4 -10.    5. ]]\n",
      "(2, 3)\n"
     ]
    }
   ],
   "source": [
    "#Créer un tableau à deux dimensions (une matrice).\n",
    "b = np.array([[0,2,4],[1,3,5]])\n",
    "b_ = np.array([[1,5.0,9,0],[4,10,6,3], [2,-2.4,-10,5]])\n",
    "#Caractéristiques du tableau : son contenu, son type et sa forme.\n",
    "#Il s'agit d'un tableau à deux dimensions contenant deux tableaux (les 'lignes') contenant chacune trois entiers (les 'colonnes').\n",
    "print(b)\n",
    "print(b_)\n",
    "print(b.shape)"
   ]
  },
  {
   "cell_type": "code",
   "execution_count": 6,
   "metadata": {
    "id": "18AQDbb4Wh5B"
   },
   "outputs": [
    {
     "name": "stdout",
     "output_type": "stream",
     "text": [
      "Le nombre de dimensions:  2\n",
      "La forme:  (2, 3)\n",
      "Le nombre d'éléments:  6\n",
      "Le type des éléments:  int32\n",
      "La taille des éléments:  4\n",
      "==============================\n",
      "Le nombre de dimensions:  2\n",
      "La forme:  (3, 4)\n",
      "Le nombre d'éléments:  12\n",
      "Le type des éléments:  float64\n",
      "La taille des éléments:  8\n"
     ]
    }
   ],
   "source": [
    "#Les principaux attributs d'une matrice NumPy sont :\n",
    "#le nombre de dimensions : ndim\n",
    "#la forme : shape\n",
    "#le nombre d'éléments : size\n",
    "#le type des éléments : dtype\n",
    "#la taille en octets (bytes) des éléments : itemsize\n",
    "print(\"Le nombre de dimensions: \", b.ndim)\n",
    "print(\"La forme: \", b.shape)\n",
    "print(\"Le nombre d'éléments: \", b.size)\n",
    "print(\"Le type des éléments: \", b.dtype)\n",
    "print(\"La taille des éléments: \", b.itemsize)\n",
    "print(\"=\"*30)\n",
    "print(\"Le nombre de dimensions: \", b_.ndim)\n",
    "print(\"La forme: \", b_.shape)\n",
    "print(\"Le nombre d'éléments: \", b_.size)\n",
    "print(\"Le type des éléments: \", b_.dtype)\n",
    "print(\"La taille des éléments: \", b_.itemsize)"
   ]
  },
  {
   "cell_type": "markdown",
   "metadata": {
    "id": "OaXiKOrawhLs"
   },
   "source": [
    "### Le fameux « trancher et découper » de Python (en anglais, « <i>slice and dice</i> »)\n",
    "\n",
    "La manière d'accéder aux valeurs dans les tableaux NumPy est souvent appelée *trancher et découper*, inspirée par l'idée d'un chef culinaire qui trancherait dans les structures de données avec vitesse, précision et dextérité pour extraire seulement et exactement la tranche de données qu'il désire.\n",
    "\n",
    "* La position des indices dans un appel de tableau correspond aux dimensions auxquelles on souhaite accéder.\n",
    " * Par exemble, seulement appeler b[0] permet d'accéder au premier exemplaire de la première dimension, équivalent à demander \"la première rangée\".\n",
    " *Appeler b[0,0] permet d'accéder à la valeur présente à l'indice 0 dans la première dimension, à l'indice 0 dans la seconde dimension, équivalent à demander \"la valeur dans la première rangée, première colonne\".\n",
    " *Appeler b[:,0] permet d'accéder au premier exemplaire de la seconde dimension, soit demander \"la première colonne\".\n",
    "* Le premier niveau d'indices à partir de 0 dans une matrice correspond aux rangées. L'indice 0 correspond à la première rangée, 1 à la seconde rangée, etc. Le second niveau correspond aux colonnes. Enfin, il peut y avoir plus de deux niveaux si la structure de données a plus de deux dimensions.\n",
    "* Le symbole \":\" correspond à l'ensemble des éléments pour une dimension donnée. Il peut être accompagné de délimiteurs sous la forme \"x:y\", où x est l'indice à partir duquel accéder aux éléments et y est le premier indice à ne pas prendre en compte.\n",
    " * Par exemple, b[:,0:2] retourne la première et la seconde valeur pour toutes les rangées, mais pas la troisième.\n"
   ]
  },
  {
   "cell_type": "code",
   "execution_count": 7,
   "metadata": {
    "id": "UFGCz9CCs6af"
   },
   "outputs": [
    {
     "name": "stdout",
     "output_type": "stream",
     "text": [
      "Toute la matrice\n",
      "[[0 2 4]\n",
      " [1 3 5]]\n",
      "\n",
      "Aussi toute la matrice, équivalent à demander toute les rangées\n",
      "[[0 2 4]\n",
      " [1 3 5]]\n",
      "\n",
      "Aussi toute la matrice, équivalent à demander toute les colonnes de toutes les rangées\n",
      "[[0 2 4]\n",
      " [1 3 5]]\n"
     ]
    }
   ],
   "source": [
    "#Accéder à une matrice.\n",
    "print(\"Toute la matrice\")\n",
    "print(b)\n",
    "print()\n",
    "print(\"Aussi toute la matrice, équivalent à demander toute les rangées\")\n",
    "print(b[:])\n",
    "print()\n",
    "print(\"Aussi toute la matrice, équivalent à demander toute les colonnes de toutes les rangées\")\n",
    "print(b[:,:])"
   ]
  },
  {
   "cell_type": "code",
   "execution_count": 8,
   "metadata": {
    "id": "Arat8PJo10bC"
   },
   "outputs": [
    {
     "name": "stdout",
     "output_type": "stream",
     "text": [
      "La première rangée\n",
      "[0 2 4]\n",
      "\n",
      "La seconde rangée\n",
      "[1 3 5]\n"
     ]
    }
   ],
   "source": [
    "#Accéder à la première rangée d'une matrice.\n",
    "print(\"La première rangée\")\n",
    "print(b[0])\n",
    "print()\n",
    "\n",
    "#Accéder à la seconde rangée d'une matrice.\n",
    "print(\"La seconde rangée\")\n",
    "print(b[1])"
   ]
  },
  {
   "cell_type": "code",
   "execution_count": 10,
   "metadata": {
    "id": "pgj9P_GB10ow"
   },
   "outputs": [
    {
     "name": "stdout",
     "output_type": "stream",
     "text": [
      "La première colonne\n",
      "[0 1]\n",
      "\n",
      "La seconde colonne\n",
      "[2 3]\n",
      "\n",
      "La troisième colonne\n",
      "[4 5]\n"
     ]
    }
   ],
   "source": [
    "#Accéder à la première colonne d'une matrice.\n",
    "print(\"La première colonne\")\n",
    "print(b[:,0])\n",
    "print()\n",
    "\n",
    "#Accéder à la seconde colonne ds'une matrice.\n",
    "print(\"La seconde colonne\")\n",
    "print(b[:,1])\n",
    "print()\n",
    "\n",
    "#Accéder à la troisième colonne ds'une matrice.\n",
    "print(\"La troisième colonne\")\n",
    "print(b[:,2])"
   ]
  },
  {
   "cell_type": "code",
   "execution_count": 14,
   "metadata": {
    "id": "Y-3HMv2i2Cdz"
   },
   "outputs": [
    {
     "name": "stdout",
     "output_type": "stream",
     "text": [
      "Valeur à la seconde rangée, seconde colonne\n",
      "3\n",
      "\n",
      "Les deux premières valeurs de la première rangée\n",
      "[0 2]\n",
      "\n",
      "Les deux premières valeurs de toutes les rangées\n",
      "[[0 2]\n",
      " [1 3]]\n",
      "\n",
      "Les deux derniere éléments des deux premieres rangées\n",
      "[1 3]\n",
      "\n",
      "Les colonnes aux indices 1 et 2\n",
      "[[2 4]\n",
      " [3 5]]\n"
     ]
    }
   ],
   "source": [
    "#Accéder à l'élément de la seconde rangéer, seconde colonne.\n",
    "print(\"Valeur à la seconde rangée, seconde colonne\")\n",
    "print(b[1,1])\n",
    "print()\n",
    "\n",
    "#Accéder aux deux premiers éléments de la première rangée.\n",
    "print(\"Les deux premières valeurs de la première rangée\")\n",
    "print(b[0,0:2])\n",
    "print()\n",
    "\n",
    "#Accéder aux deux premiers éléments de toutes les rangées.\n",
    "print(\"Les deux premières valeurs de toutes les rangées\")\n",
    "print(b[:,0:2])\n",
    "print()\n",
    "\n",
    "#Accéder aux deux derniere éléments des deux premieres rangées.\n",
    "print(\"Les deux derniere éléments des deux premieres rangées\")\n",
    "print(b[1, 0:2])\n",
    "print()\n",
    "\n",
    "#Accéder à des valeurs selon une liste d'indices prédéfinie.\n",
    "indices = [1,2]\n",
    "print(\"Les colonnes aux indices 1 et 2\")\n",
    "print(b[:, indices])"
   ]
  },
  {
   "cell_type": "markdown",
   "metadata": {
    "id": "nI3atA1I29vI"
   },
   "source": [
    "### Opérations sur les matrices"
   ]
  },
  {
   "cell_type": "code",
   "execution_count": 15,
   "metadata": {
    "id": "565TwIIM2ChB"
   },
   "outputs": [
    {
     "name": "stdout",
     "output_type": "stream",
     "text": [
      "[[0.  1.  2. ]\n",
      " [0.5 1.5 2.5]]\n",
      "float64\n",
      "(2, 3)\n"
     ]
    }
   ],
   "source": [
    "#L'ensemble des données dans une matrice peuvent être multipliées par une valeur scalaire.\n",
    "c = b * 0.5\n",
    "print(c)\n",
    "print(c.dtype)\n",
    "print(c.shape)"
   ]
  },
  {
   "cell_type": "code",
   "execution_count": 16,
   "metadata": {
    "id": "jKD1_Grm3jxZ"
   },
   "outputs": [
    {
     "name": "stdout",
     "output_type": "stream",
     "text": [
      "[[ 0  4  8]\n",
      " [ 2  6 10]]\n",
      "int32\n",
      "(2, 3)\n"
     ]
    }
   ],
   "source": [
    "#Les matrices peuvent également être additionnées entre elles (addition de chaque élément correspondant à l'intérieur de la matrice).\n",
    "d = b + b\n",
    "print(d)\n",
    "print (d.dtype)\n",
    "print(d.shape)"
   ]
  },
  {
   "cell_type": "code",
   "execution_count": 17,
   "metadata": {
    "id": "v6_xfYaK4Rve"
   },
   "outputs": [
    {
     "name": "stdout",
     "output_type": "stream",
     "text": [
      "30\n",
      "5.0\n"
     ]
    }
   ],
   "source": [
    "#On peux réaliser des opérations statistiques sur les matrices, comme la somme ou la moyenne.\n",
    "print(d.sum())\n",
    "print(d.mean())"
   ]
  },
  {
   "cell_type": "code",
   "execution_count": null,
   "metadata": {
    "collapsed": true,
    "id": "hNBPIgvC4vuz"
   },
   "outputs": [],
   "source": [
    "#Ces opérations peuvent aussi être réalisées sur les axes (rangées, colonnes) de la matrice.\n",
    "#L'axe 0 correspond à la somme pour chaque colonne (le plus fréquent, car il correspond à la somme totale de chaque attribut).\n",
    "print(\"Somme totale pour chaque colonne\")\n",
    "print(d.sum(axis=0))\n",
    "print()\n",
    "print(\"Moyenne pour chaque colonne\")\n",
    "print(d.mean(axis=0))\n",
    "print()\n",
    "\n",
    "#L'axe 1 correspond à la somme pour chaque rangée (moins fréquent, car moins de raison d'additionner les différents attributs d'un exemplaire).\n",
    "print(\"Somme totale pour chaque rangée\")\n",
    "print(d.sum(axis=1))\n",
    "print()\n",
    "print(\"Moyenne pour chaque rangée\")\n",
    "print(d.mean(axis=1))\n",
    "print()"
   ]
  },
  {
   "cell_type": "code",
   "execution_count": null,
   "metadata": {
    "collapsed": true,
    "id": "2IH7Fc215MDn"
   },
   "outputs": [],
   "source": [
    "#On peut aussi faire le produit scalaire ('dot product') ou la multiplication matricielle de deux matrices.\n",
    "print(\"Exemple de multiplication scalaire\")\n",
    "print(np.dot(a,a))\n",
    "print()\n",
    "\n",
    "print(\"Exemple de multiplication matricielle\")\n",
    "e = np.array([[1,2],[3,4]])\n",
    "f = np.array([[11,12],[13,14]])\n",
    "print(np.dot(e,f))\n",
    "\n"
   ]
  },
  {
   "cell_type": "code",
   "execution_count": null,
   "metadata": {
    "collapsed": true,
    "id": "tqHBVh5D67uV"
   },
   "outputs": [],
   "source": [
    "#On peut créer des matrices à partir de listes, et vice versa.\n",
    "#La méthode .arange permet de générer \"une portée\" de la longueur spécifiée.\n",
    "#(elle accepte aussi des paramètres supplémentaires comme la valeur de départ ou le pas).\n",
    "print(\"Liste de 12 entiers à partir de 0\")\n",
    "g = np.arange(12)\n",
    "print(g)\n",
    "print()\n",
    "\n",
    "#On peut affecter des valeurs.\n",
    "print(\"Affectation de la valeur 0 à toutes les positions à partir de l'indice 5\")\n",
    "g[5:] = 0\n",
    "print(g)\n",
    "print()\n",
    "\n",
    "#On peut par exemple modifier les dimensions de la liste 1x12 pour en faire une matrice 3x4...\n",
    "print(\"Remodelage de la liste de 12 éléments en matrice 3x4 de 12 éléments\")\n",
    "h = g.reshape(3,4)\n",
    "print(h)\n",
    "print()\n",
    "\n",
    "#Ou aplatir une matrice en liste.\n",
    "print(\"Remodelage de la matrice 3x4 de 12 éléments en liste de 12 éléments\")\n",
    "i = h.reshape(12)\n",
    "print(i)\n",
    "print()\n",
    "\n",
    "#Ou concaténer plusieurs listes.\n",
    "print(\"Concaténation d'une liste de 12 éléments et d'une liste de 3 éléments\")\n",
    "j = np.concatenate([g,a])\n",
    "print(j)\n",
    "print(j.size)\n",
    "print()\n",
    "\n",
    "#Ou empiler plusieurs matrices verticalement ou horizontalement.\n",
    "print(\"Empilage vertical\")\n",
    "print(np.vstack([a,b,d]))\n",
    "print()\n",
    "print(\"Empilage horizontal\")\n",
    "print(np.hstack([b,d]))\n",
    "print()"
   ]
  },
  {
   "cell_type": "markdown",
   "metadata": {
    "id": "0Qh4NdMv121u"
   },
   "source": [
    "## Premier contact avec Pandas\n",
    "\n",
    "Pandas est une bibliothèque Python libre et ouverte conçue pour manipuler des données contenues dans un tableau 2D de type tableur (DataFRame) ou chaque ligne du tableau représente un exemplaire de la donnée et chaque colonne un attribut de la donnée."
   ]
  },
  {
   "cell_type": "markdown",
   "metadata": {
    "id": "O36xXZ5C2w9H"
   },
   "source": [
    "### Chargement rapide d'un tableau de données\n",
    "\n",
    "L'exemple suivant charge un tableau décrivant les caractéristiques de 205 différents modèles de voitures.\n",
    "\n",
    "Il compte trois types d'entités:\n",
    "(a) la spécification d'une automobile en termes de diverses caractéristiques; (b) sa cote de risque d'assurance attribuée;\n",
    "(c) ses pertes normalisées par rapport aux autres voitures.\n",
    "\n",
    "La cote de risque correspond au degré auquel l'automobile est plus risquée que son prix ne l'indique. Les voitures reçoivent initialement une cote de facteur de risque associée à leur prix. Ensuite, selon le risque avéré, cette cote est ajustée vers le haut (ou vers le bas) de l'échelle. Les actuaires appellent cela processus \"symbolisation\". Une valeur de +3 indique que l'auto est risquée, -3 qu'elle est probablement assez sûre.\n",
    "\n",
    "Le troisième facteur est le paiement de sinistre moyen relatif par année assurée du véhicule. Cette valeur est normalisée pour toutes les voitures dans une catégorie de taille donnée (petits deux portes, break, sports / spécialité, etc.), et représente la perte moyenne par voiture par an."
   ]
  },
  {
   "cell_type": "code",
   "execution_count": null,
   "metadata": {
    "collapsed": true,
    "id": "z3asv8Kt257h"
   },
   "outputs": [],
   "source": [
    "#Importation de la librairie Pandas.\n",
    "import pandas as pd\n",
    "print(\"Bibliothèques Pandas importées\")"
   ]
  },
  {
   "cell_type": "code",
   "execution_count": null,
   "metadata": {
    "collapsed": true,
    "id": "R6YS8pUW2-qw"
   },
   "outputs": [],
   "source": [
    "# Commande Linux wget pour télécharger un fichier è partir de son URL.\n",
    "! wget https://archive.ics.uci.edu/ml/machine-learning-databases/autos/imports-85.data\n",
    "print(\"Données Iris téléchargées\")"
   ]
  },
  {
   "cell_type": "code",
   "execution_count": null,
   "metadata": {
    "id": "RvakiBfi52Jh"
   },
   "outputs": [],
   "source": [
    "#Création d'une liste de noms d'attributs en français pour les colonnes.\n",
    "attributs = [\"cote\",\n",
    "             \"perte\",\n",
    "             \"constructeur\",\n",
    "             \"combustible\",\n",
    "             \"aspiration\",\n",
    "             \"portes\",\n",
    "             \"carosserie\",\n",
    "             \"roues_motrices\",\n",
    "             \"position_moteur\",\n",
    "             \"base_roues\",\n",
    "             \"longueur\",\n",
    "             \"largeur\",\n",
    "             \"hauteur\",\n",
    "             \"poids\",\n",
    "             \"type_moteur\",\n",
    "             \"cylindres\",\n",
    "             \"taille_moteur\",\n",
    "             \"système_combustible\",\n",
    "             \"diamètre_cylindres\",\n",
    "             \"course_piston\",\n",
    "             \"ratio_compression\",\n",
    "             \"chevaux\",\n",
    "             \"RPM_nominal\",\n",
    "             \"miles_par_gallon_ville\",\n",
    "             \"miles_par_gallon_autoroute\",\n",
    "             \"prix\"]\n",
    "\n",
    "#Lecture du fichier csv téléchargé pour le transféréer dans un Dataframe Pandas et lui appliquer nos noms d'attributs comme entêtes de colonnes.\n",
    "df = pd.read_csv(\"./imports-85.data\", names=attributs)\n",
    "print(\"Données Automobiles lues et mémorisées dans la variable 'df'\")\n",
    "\n",
    "#Affichage des cinq premiers spécimens du tableau (méthode .head()) pour valider que ça a marché.\n",
    "df.head()"
   ]
  },
  {
   "cell_type": "code",
   "execution_count": null,
   "metadata": {
    "collapsed": true,
    "id": "NGdXZxYvJauc"
   },
   "outputs": [],
   "source": [
    "#Voyons voir de quoi à l'air notre jeu de données.\n",
    "#On devrait avoir 205 voitures décrites par 26 attributs.\n",
    "print(\"Le nombre de lignes (les modèles de voitures) et le nombre de colonnes (leurs attributs) : \", df.shape)\n",
    "print(\"Seulement le nombre d'entrées : \", len(df))\n",
    "print(\"Seulement le nombre de colonnes : \", len(df.columns))"
   ]
  },
  {
   "cell_type": "code",
   "execution_count": null,
   "metadata": {
    "collapsed": true,
    "id": "HnXr7l5wntso"
   },
   "outputs": [],
   "source": [
    "#Voyons voir un récapitulatif plus formel avec la méthode .info().\n",
    "df.info()"
   ]
  },
  {
   "cell_type": "markdown",
   "metadata": {
    "id": "6NKAv0eVsg9T"
   },
   "source": [
    "### Préparation et nettoyage des données\n",
    "\n",
    "La préparation des données représente typiquement environ 80% du travail. Il s'agit d'explorer nos données pour identifier et corriger, par exemple :\n",
    "\n",
    "* Les valeurs manquantes.\n",
    "* Les valeurs de mauvais type.\n",
    "* Les valeurs représentant des catégories auxquelles appliquer une valeur numérique.\n",
    "* Les attributs superflus ou qui pourraient être consolidés."
   ]
  },
  {
   "cell_type": "markdown",
   "metadata": {
    "id": "OCdNlvTM7z1l"
   },
   "source": [
    "#### Attributs superflus\n",
    "\n",
    "Admettons que nous n'ayons pas l'intention de travailler avec certains attributs..."
   ]
  },
  {
   "cell_type": "code",
   "execution_count": null,
   "metadata": {
    "collapsed": true,
    "id": "YJ3nCai975Zo"
   },
   "outputs": [],
   "source": [
    "#On peut éliminer certains attributs avec la méthode .drop().\n",
    "df.drop(columns = ['base_roues', 'taille_moteur', 'diamètre_cylindres', 'course_piston', 'ratio_compression', 'RPM_nominal', 'miles_par_gallon_ville', 'miles_par_gallon_autoroute'], inplace=True, errors='ignore')\n",
    "df.head()"
   ]
  },
  {
   "cell_type": "markdown",
   "metadata": {
    "id": "KZKmhGvf4ohI"
   },
   "source": [
    "#### Données aberrantes\n",
    "\n",
    "On peut aussi noter une anomalie intéressante grâce à la méthode .info() exécutée plus haut : plusieurs des attributs qui devraient être numériques (la perte normalisée, le prix, etc.) on un type \"objet\" qui nous empêcherait de réaliser des calculs avec eux. Pourtant, l'intuition nous dit que ces données devraient être des chiffres. Qu'est-ce qui cloche? Il faut investiguer et corriger ça. Commençons par le prix."
   ]
  },
  {
   "cell_type": "code",
   "execution_count": null,
   "metadata": {
    "collapsed": true,
    "id": "haEuRKQAtZmV"
   },
   "outputs": [],
   "source": [
    "#De quoi ont l'air les valeurs de la catégorie \"prix\"?\n",
    "#On peut accéder à nos colonnes par leur nom et on peut lister les valeurs uniques.\n",
    "#On se rend compte qu'on a un intru sous la forme d'un \"?\" dans la liste.\n",
    "print(df['prix'].unique())\n",
    "print()\n",
    "\n",
    "#On peut émettre la supposition réfléchie que les gens qui ont composé le jeu de données on peut être utilisé \"?\" quand une donnée était inconnue pour un modèle de voiture.\n",
    "#Combien avont nous de prix inconnus? Utilisons un filtre pour le savoir. Apparemment, il y en a quatre.\n",
    "print(\"Les entrées où la valeur de 'prix' est '?':\")\n",
    "df[df['prix'] == \"?\"]"
   ]
  },
  {
   "cell_type": "code",
   "execution_count": null,
   "metadata": {
    "collapsed": true,
    "id": "CEB9tKX7utn5"
   },
   "outputs": [],
   "source": [
    "#Nous devrions penser à une stratégie pour remplacer ces valeurs inconnues.\n",
    "#Une approche est de remplacer la valeur inconnue d'un attribut par la valeur moyenne ou le mode de cet attribut.\n",
    "#Une autre serait de retirer les spécimens présentant une valeur inconnue, ce que nous allons faire.\n",
    "#Nous pouvons obtenir les indices des modèles à éjecter avec la propriété .index appliquée au filtre.\n",
    "indices = df[df['prix'] == \"?\"].index\n",
    "df.drop(indices, inplace=True)\n",
    "\n",
    "#Une fois les entrées indésirables supprimées, il serait bien de remettre le type de cette colonne à un type numérique.\n",
    "df['prix'] = df['prix'].apply(pd.to_numeric)\n",
    "\n",
    "#Il reste bien 201 voitures et le prix est maintenant numérique.\n",
    "df.info()"
   ]
  },
  {
   "cell_type": "code",
   "execution_count": null,
   "metadata": {
    "collapsed": true,
    "id": "_PimqxmZ83t3"
   },
   "outputs": [],
   "source": [
    "#Maintenant, vérifions où il reste des attributs manquants. Prenons pour acquis que le \"?\" a été utilisé systématiquement par les chercheurs.\n",
    "#Les attributs perte, portes et chevaux contiennent toujours des valeurs inconnues.\n",
    "df[df == \"?\"].count()"
   ]
  },
  {
   "cell_type": "code",
   "execution_count": null,
   "metadata": {
    "id": "J5FX3Jix9gub"
   },
   "outputs": [],
   "source": [
    "#On peut s'en débarasser eux aussi\n",
    "\n",
    "#Mais au lieu d'éliminer les pertes et les chevaux inconnus, remplaçons-les par la moyenne.\n",
    "#Cette fois-ci, pour pouvoir la calculer, il faut qu'un type numérique soit assigné à la colonne en premier.\n",
    "#L'argument errors='coerce' force la conversion des valeurs non numériques en NaN au lieu de générer une erreur.\n",
    "#La méthode .mean() ignore automatiquement les NaN.\n",
    "df['perte'] = df['perte'].apply(pd.to_numeric, errors='coerce')\n",
    "perte_moyenne = df['perte'].mean()\n",
    "\n",
    "df['chevaux'] = df['chevaux'].apply(pd.to_numeric, errors='coerce')\n",
    "chevaux_moyenne = df['chevaux'].mean()\n",
    "\n",
    "#La méthode .fillna() permet de remplacer les \"?\" transformés en NaN par notre moyenne calculée.\n",
    "df['perte'].fillna(perte_moyenne, inplace=True)\n",
    "df['chevaux'].fillna(chevaux_moyenne, inplace=True)\n",
    "\n",
    "#Pour les portes, remplaçons les par le mode, qui peut être calculé même sur un type objet.\n",
    "#On utilise la méthode .replace()\n",
    "portes_mode = df['portes'].mode()\n",
    "df['portes'] = df['portes'].replace([\"?\"], portes_mode)"
   ]
  },
  {
   "cell_type": "code",
   "execution_count": null,
   "metadata": {
    "collapsed": true,
    "id": "M_vmAYQdPdPG"
   },
   "outputs": [],
   "source": [
    "#Tout à l'air bon côté info\n",
    "df.info()"
   ]
  },
  {
   "cell_type": "markdown",
   "metadata": {
    "id": "gm4uDnDY65fi"
   },
   "source": [
    "*Note: Normalement, dans un contexte d'apprentissage machine les données d'un jeu de données ne devraient jamais être substituées avant de diviser le jeu en ensembles d'entraînement et de test. Remplacer des données par la moyenne du jeu complet signifie en effet contaminer le jeu de test avec des valeurs dérivées en partie du jeu d'entraînement... On le fait quand même ici pour simplifier la démonstration.*"
   ]
  },
  {
   "cell_type": "markdown",
   "metadata": {
    "id": "j40dhmspsaxS"
   },
   "source": [
    "#### Ajouter une nouvelle donnée\n",
    "\n",
    "Admettons que nous désirions ajouter une colonne de prix en argent canadien..."
   ]
  },
  {
   "cell_type": "code",
   "execution_count": null,
   "metadata": {
    "collapsed": true,
    "id": "SXkYaeNCsgP4"
   },
   "outputs": [],
   "source": [
    "#On peu calculer le prix en argent canadien à partir du prix original et du taux de change.\n",
    "#On peut ajouter des colonnes arbitraires à un Dataframe existant simplement en assignant une série à une colonne d'un nom inexistant.\n",
    "prix_CAD = df['prix'] * 1.25\n",
    "df['prix_CAD'] = prix_CAD.astype('int64')\n",
    "df.head()"
   ]
  },
  {
   "cell_type": "markdown",
   "metadata": {
    "id": "M0HMXvdT-Oos"
   },
   "source": [
    "### Passer d'un Dataframe à une matrice NumPy"
   ]
  },
  {
   "cell_type": "code",
   "execution_count": null,
   "metadata": {
    "collapsed": true,
    "id": "ejUv6q0q-UoD"
   },
   "outputs": [],
   "source": [
    "#Oui, on peut convertir un Dataframe en matrice NumPy.\n",
    "df_to_numpy = df.to_numpy()\n",
    "print(df_to_numpy)"
   ]
  },
  {
   "cell_type": "code",
   "execution_count": null,
   "metadata": {
    "collapsed": true,
    "id": "duS7gCqw-bHN"
   },
   "outputs": [],
   "source": [
    "#Et l'inverse. Malheureusement, il faut réattribuer les noms des attributs\n",
    "colonnes = df.columns\n",
    "numpy_to_df = pd.DataFrame(df_to_numpy, columns=colonnes)\n",
    "numpy_to_df.head()"
   ]
  },
  {
   "cell_type": "code",
   "execution_count": null,
   "metadata": {
    "collapsed": true,
    "id": "McUmrZXcZbpG"
   },
   "outputs": [],
   "source": [
    "print(\"Exécution du carnet web IPython terminée\")"
   ]
  },
  {
   "cell_type": "markdown",
   "metadata": {
    "id": "4ggSEyJG_4u1"
   },
   "source": [
    "Félicitations! Vous savez maintenant charger, examiner et charcuter les tableaux de données!"
   ]
  }
 ],
 "metadata": {
  "colab": {
   "name": "Survol-Science_Des_Donnees-NumPy_et_Pandas.ipynb",
   "provenance": []
  },
  "kernelspec": {
   "display_name": "Python 3 (ipykernel)",
   "language": "python",
   "name": "python3"
  },
  "language_info": {
   "codemirror_mode": {
    "name": "ipython",
    "version": 3
   },
   "file_extension": ".py",
   "mimetype": "text/x-python",
   "name": "python",
   "nbconvert_exporter": "python",
   "pygments_lexer": "ipython3",
   "version": "3.10.9"
  }
 },
 "nbformat": 4,
 "nbformat_minor": 1
}
