{
 "cells": [
  {
   "cell_type": "markdown",
   "metadata": {
    "id": "rv4G50c3b_P5"
   },
   "source": [
    "<a style=\"float:left;\" href=\"https://colab.research.google.com/github/ClaudeCoulombe/VIARENA/blob/master/Labos/Lab-Iris/Survol-Science_Des_Donnees-Iris.ipynb\" target=\"_blank\"><img src=\"https://colab.research.google.com/assets/colab-badge.svg\" alt=\"Open In Colab\"/></a>\n",
    "<br/>\n",
    "### Rappel - Fonctionnement d'un carnet web iPython\n",
    "\n",
    "* Pour exécuter le code contenu dans une cellule d'un carnet iPython, cliquez dans la cellule et faites (⇧↵, shift-enter) \n",
    "* Le code d'un carnet iPython s'exécute séquentiellement de haut en bas de la page. Souvent, l'importation d'une bibliothèque Python ou l'initialisation d'une variable est préalable à l'exécution d'une cellule située plus bas. Il est donc recommandé d'exécuter les cellules en séquence. Enfin, méfiez-vous des retours en arrière qui peuvent réinitialiser certaines variables.\n",
    "* Pour obtenir de l'information sur une fonction, utilisez la commande Python `help(`\"nom de la fonction\"`)`\n",
    "\n",
    "SVP, déployez toutes les cellules en sélectionnant l'item « Développer les rubriques » de l'onglet « Affichage »."
   ]
  },
  {
   "cell_type": "markdown",
   "metadata": {
    "id": "hk0EoUFyb_P_"
   },
   "source": [
    "<h1 style=\"font-size:250%;text-align:center\">Survol de la science des données</h1>\n",
    "<h1 style=\"font-size:250%;text-align:center\">avec le jeu de données des Iris gaspésiens</h1>\n",
    "<h1 style=\"font-size:250%;text-align:center\">avec pandas</h1>\n",
    "<br/><br/>\n",
    "<img src=\"https://cours.edulib.org/asset-v1:Cegep-Matane+VAERN.1FR+P2021+type@asset+block@ScDo-pandas_logo.png\" width=500 style=\"float:center;\"/>\n",
    "<br/>\n"
   ]
  },
  {
   "cell_type": "markdown",
   "metadata": {
    "id": "zIIl_Ixpb_QC"
   },
   "source": [
    "## Importation des bibliothèques utilisées pour le tutoriel\n"
   ]
  },
  {
   "cell_type": "code",
   "execution_count": null,
   "metadata": {
    "id": "LlHy_7ZTb_QC"
   },
   "outputs": [],
   "source": [
    "# Importer toutes les bibliothèques, classes et fonctions \n",
    "# utilisées pour le tutoriel dans l'espace de travail\n",
    "import scipy # bibliothèque de calcul scientifique \n",
    "import matplotlib # bibliothèque d'affichage graphique\n",
    "import sklearn # bibliothèque d'algorithmes \"classiques\" d'apprentissage automatique \n",
    "\n",
    "# Pour de grosses bibliothèques, vous pouvez importer seulement des parties \n",
    "# avec from <bibliothèque> import <classe/objet>\n",
    "# Note: «import *» importe le code de TOUS les paquets (packages), \n",
    "from numpy import * # bibliothèque de calcul matriciel\n",
    "from pandas import * # bibliothèque de manipulation de tableaux de données\n",
    "from sklearn import * # bibliothèque d'algorithmes \"classiques\" d'apprentissage automatique\n",
    "\n",
    "# Important: pour éviter des conflits dans l'espace de nommage, \n",
    "# vous pouvez renommer les bibliothèques importées\n",
    "\n",
    "# Renommages conventionnels: \n",
    "## import <bibliothèque> as <abréviation>\n",
    "# numpy devient «np»\n",
    "import numpy as np\n",
    "## matplotlib devient «plt»\n",
    "import matplotlib.pyplot as plt\n",
    "# La manière usuelle d'importer Pandas\n",
    "# Importer la biblothèque Pandas et la renommer «pd» \n",
    "import pandas as pd\n",
    "\n",
    "# Pour de grosses bibliothèques, vous pouvez importer seulement des parties \n",
    "# avec from <bibliothèque> import <classe/objet>\n",
    "# Importer les classes «Series» et «DataFrame» de Pandas\n",
    "from pandas import Series, DataFrame\n",
    "\n",
    "# Importer des classes ou fonctions spécifiques d'une bibliothèque \n",
    "# from <bibliotheque> import <fonction>\n",
    "from pandas import DataFrame, read_csv\n",
    "\n",
    "# Activer l'affichage des graphiques dans la page du Notebook iPython\n",
    "%matplotlib inline\n",
    "\n",
    "# Importer IPython afin de pouvoir vérifier sa version et d'afficher des contenus web dans le carnet\n",
    "import IPython\n",
    "\n",
    "# Bibliothèque «sys», utilisée uniquement pour obtenir les numéros de versions\n",
    "import sys \n",
    "\n",
    "print(\"Bibliothèques Python importées\")"
   ]
  },
  {
   "cell_type": "markdown",
   "metadata": {
    "id": "gatAuU84b_QE"
   },
   "source": [
    "### Vérification de l'installation"
   ]
  },
  {
   "cell_type": "code",
   "execution_count": null,
   "metadata": {
    "id": "MGKgCcq_b_QF"
   },
   "outputs": [],
   "source": [
    "# Vérification des versions des bibliothèques Python importées\n",
    "print('Version de Python: ',sys.version)\n",
    "print('Version de IPython: ',IPython.__version__)\n",
    "print('Version de NumPy: ',np.__version__)\n",
    "print('Version de Matplotlib: ',matplotlib.__version__)\n",
    "print('Version de SciPy: ',scipy.__version__)\n",
    "print('Version de Pandas: ',pd.__version__)\n",
    "print('Version de Scikit-Learn: ',sklearn.__version__)"
   ]
  },
  {
   "cell_type": "markdown",
   "metadata": {
    "id": "EN26lCw7cRZF"
   },
   "source": [
    "## Fixer le hasard pour la reproductibilité\n",
    "\n",
    "Le traitement de données implique parfois des processus aléatoires. Afin de pouvoir reproduire et comparer vos résultats d'expérience, vous allez fixer temporairement l'état aléatoire grâce à un germe aléatoire unique.\n",
    "\n",
    "Pendant la mise au point, vous fixez temporairement l'état aléatoire pour la reproductibilité mais vous répétez l'expérience avec différents germes ou états aléatoires et prenez la moyenne des résultats.\n",
    "<br/>\n",
    "##### **Note**: Pour un système en production, vous ravivez simplement l'état  purement aléatoire avec l'instruction `GERME_ALEATOIRE = None`\n",
    "\n"
   ]
  },
  {
   "cell_type": "code",
   "execution_count": null,
   "metadata": {
    "id": "gA5wT28dc255"
   },
   "outputs": [],
   "source": [
    "import os\n",
    "\n",
    "# Définir un germe aléatoire\n",
    "GERME_ALEATOIRE = 42\n",
    "\n",
    "# Définir un état aléatoire pour Python\n",
    "os.environ['PYTHONHASHSEED'] = str(GERME_ALEATOIRE)\n",
    "\n",
    "# Définir un état aléatoire pour Python random\n",
    "import random\n",
    "random.seed(GERME_ALEATOIRE)\n",
    "\n",
    "# Définir un état aléatoire pour NumPy\n",
    "import numpy as np\n",
    "np.random.seed(GERME_ALEATOIRE)\n",
    "\n",
    "print(\"Germe aléatoire fixé\")"
   ]
  },
  {
   "cell_type": "markdown",
   "metadata": {
    "id": "cFCmcoLCb_QG"
   },
   "source": [
    "## Lecture et chargement des données\n",
    "\n",
    "Nous allons utiliser le célèbre jeu de de données sur les fleurs d'iris de Gaspésie. \n",
    "\n",
    "Rappelons que ce jeu de données contient 150 observations ou exemplaires de fleurs d'iris. Chaque observation comporte quatre attributs (longueur et la largeur des pétales et des sépales) mesurés sur des fleurs d'iris de trois espèces différentes (Iris setosa, Iris versicolor, Iris virginica). \n",
    "\n",
    "Cela donne un tableau de cinq colonnes, les quatre premières colonnes contiennent des mesures des fleurs en centimètres. La cinquième colonne contient l'étiquette de la classe-cible qui est l'espèce de la fleur observée. \n",
    "\n",
    "<ol>\n",
    "    <li>longueur des sépales en cm</li>\n",
    "    <li>largeur des sépales en cm</li>\n",
    "    <li>longueur des pétales en cm</li>\n",
    "    <li>largeur des pétales en cm</li>\n",
    "    <li>espèce (étiquette de la classe-cible): \"Iris-setosa\", ou \"Iris-versicolor\", ou \"Iris-virginica\"</li>\n",
    "</ol>"
   ]
  },
  {
   "cell_type": "markdown",
   "metadata": {
    "id": "tD5__M7Kb_QG"
   },
   "source": [
    "### Téléchargement des données 'iris.data' du site de l'université de Californie à Irvine\n",
    "\n",
    "<a href=\"https://archive.ics.uci.edu/ml/index.php/\" target=\"_blank\">UCI Machine Learning Repository</a>\n",
    "\n",
    "Note: le jeu de données 'iris.data' qui est en format .csv (comma separated value), sera téléchargés dans le répertoire local"
   ]
  },
  {
   "cell_type": "code",
   "execution_count": null,
   "metadata": {
    "id": "Wls2nRRNb_QH"
   },
   "outputs": [],
   "source": [
    "# Commande Linux pour connaître le chemin du répertoire local\n",
    "!pwd"
   ]
  },
  {
   "cell_type": "code",
   "execution_count": null,
   "metadata": {
    "id": "n_WDPB7Lb_QH"
   },
   "outputs": [],
   "source": [
    "# Commande Linux pour télécharger un fichier è partir de son URL\n",
    "! wget https://archive.ics.uci.edu/ml/machine-learning-databases/iris/iris.data\n",
    "print(\"Données Iris téléchargées\")"
   ]
  },
  {
   "cell_type": "markdown",
   "metadata": {
    "id": "sDC04q3_b_QI"
   },
   "source": [
    "### Lecture des données - fonction Pandas `read_csv()`"
   ]
  },
  {
   "cell_type": "code",
   "execution_count": null,
   "metadata": {
    "id": "v_Cqh-phb_QI"
   },
   "outputs": [],
   "source": [
    "# Création d'une liste de noms d'attributs en français\n",
    "noms_attributs = [\"longueur_sépales\",\"largeur_sépales\",\"longueur_pétales\",\"largeur_pétales\", \"espèce\"]\n",
    "\n",
    "# pd.read_csv(...) cette fonction de Pandas Retourne un Dataframe ou tableau de données analogue à un tableur \n",
    "# où chaque ligne représente un exemplaire de données (observations ou exemples) \n",
    "# et chaque colonne représente la valeur d'un attribut (ou caractéristique).\n",
    "donnees_iris_df = pd.read_csv(\"./iris.data\", names=noms_attributs)\n",
    "print(\"Données Iris lues et mémorisées dans la variable 'donnees_iris_df'\")"
   ]
  },
  {
   "cell_type": "markdown",
   "metadata": {
    "id": "Py5E3eOBb_QJ"
   },
   "source": [
    "## Exploration des données\n",
    "\n",
    "L’analyse des données débute généralement par l'exploration et la visualisation des données. On cherche ici à se familiariser, mieux comprendre et détecter des éventuelles anomalies comme les données aberrantes. \n",
    "\n",
    "### Affichage des premières rangées de données - fonction DataFrame `head()`"
   ]
  },
  {
   "cell_type": "code",
   "execution_count": null,
   "metadata": {
    "id": "lC37VXEXb_QJ"
   },
   "outputs": [],
   "source": [
    "# La fonction head() affiche les 5 premières lignes ou rangées du DataFrame\n",
    "donnees_iris_df.head()"
   ]
  },
  {
   "cell_type": "markdown",
   "metadata": {
    "id": "99D9UGVhb_QJ"
   },
   "source": [
    "### Affichage des dernières rangées des données - fonction DataFrame `.tail()`"
   ]
  },
  {
   "cell_type": "code",
   "execution_count": null,
   "metadata": {
    "id": "d1RinG0kb_QK"
   },
   "outputs": [],
   "source": [
    "# La fonction tail() affiche les 5 dernières rangées ou lignes du DataFrame\n",
    "donnees_iris_df.tail()"
   ]
  },
  {
   "cell_type": "markdown",
   "metadata": {
    "id": "6LlVtIiTb_QK"
   },
   "source": [
    "### Vues récapitulatives, l'attribut DataFrame `.shape` et les fonctions DataFrame `.info()` et `.describe()`\n",
    "\n",
    "Une seconde étape consiste à explorer chaque attribut (ou caractéristique) pour en connaître la distribution statistique. Par exemple, les différentes valeurs, l’étendue (valeur minimale, valeur maximale), la moyenne, et la variance. "
   ]
  },
  {
   "cell_type": "markdown",
   "metadata": {
    "id": "yEfke7bFb_QK"
   },
   "source": [
    "#### Format du tableau de données - l'attribut DataFrame `.shape` "
   ]
  },
  {
   "cell_type": "code",
   "execution_count": null,
   "metadata": {
    "id": "1z2mPNk_b_QK"
   },
   "outputs": [],
   "source": [
    "donnees_iris_df.shape"
   ]
  },
  {
   "cell_type": "markdown",
   "metadata": {
    "id": "6HYYPcmLb_QL"
   },
   "source": [
    "On voit que le fichier comporte 150 lignes ou exemplaires et 5 colonnes ou attributs"
   ]
  },
  {
   "cell_type": "markdown",
   "metadata": {
    "id": "01X6UTHwb_QL"
   },
   "source": [
    "#### Obtenir le nom des colonnes ou attributs du tableau de données - l'attribut DataFframe `.columns` "
   ]
  },
  {
   "cell_type": "code",
   "execution_count": null,
   "metadata": {
    "id": "H50rYzWOb_QL"
   },
   "outputs": [],
   "source": [
    "donnees_iris_df.columns"
   ]
  },
  {
   "cell_type": "markdown",
   "metadata": {
    "id": "pZ_sniCib_QN"
   },
   "source": [
    "#### Obtenir les types de données associés aux colonnes du tableau de données -  l'attribut DataFrame `.dtypes` "
   ]
  },
  {
   "cell_type": "code",
   "execution_count": null,
   "metadata": {
    "id": "avtji2G9b_QN"
   },
   "outputs": [],
   "source": [
    "donnees_iris_df.dtypes"
   ]
  },
  {
   "cell_type": "markdown",
   "metadata": {
    "id": "JnOSuFqhb_QN"
   },
   "source": [
    "#### Vue récapitulative du tableau de données - fonction DataFrame `.info()`"
   ]
  },
  {
   "cell_type": "code",
   "execution_count": null,
   "metadata": {
    "id": "lNRdyR9fb_QN"
   },
   "outputs": [],
   "source": [
    "donnees_iris_df.info()"
   ]
  },
  {
   "cell_type": "markdown",
   "metadata": {
    "id": "2oAusSL0b_QO"
   },
   "source": [
    "#### Statistiques descriptives globales du tableau de données - fonction DataFrame `.describe()`\n",
    "\n",
    "Maintenant, examinons notre tableau de données avec la fonction DataFrame `.describe()` \n",
    "\n",
    "La fonction `describe()` retourne plusieurs statistiques sommaires d'un seul coup."
   ]
  },
  {
   "cell_type": "code",
   "execution_count": null,
   "metadata": {
    "id": "hwOmn5_tb_QO"
   },
   "outputs": [],
   "source": [
    "donnees_iris_df.describe()"
   ]
  },
  {
   "cell_type": "markdown",
   "metadata": {
    "id": "_PboC9C7b_QO"
   },
   "source": [
    "On voit ci-haut que le DataFrame «donnees_iris_df» comporte 150 rangées qui correspondent à autant d'observations ou exemplaires de données sur les fleurs d'Iris. Par exemple, la longueur moyenne des sépales est 5.84 cm, la longueur minimale des sépales est 4.3 cm, la longueur au 1er quartile Q1 (25%) est de 5.1 cm (i.e. 25% des mesures sont < 5.1 cm)  la médiane Q2 (50%) est de 5.8 cm (i.e. 50% des mesures sont < 5.8 cm), la longueur du 3e quartile (75%) est de 6.4 cm (i.e. 75% des mesures sont < 6.4 cm), la longueur maximale des sépales est 7.9 cm,. \n",
    "\n",
    "On remarquera aussi, que les attributs catégoriels comme 'espèce' ne sont pas considérés par la fonction `.describe()`"
   ]
  },
  {
   "cell_type": "markdown",
   "metadata": {
    "id": "0fu4j3zdb_QO"
   },
   "source": [
    "### Vue par attribut - fonction DataFrame `.unique()`\n",
    "\n",
    "Pour lister les différentes valeurs possibles d'un attribut, on utilise la fonction `.unique()`"
   ]
  },
  {
   "cell_type": "code",
   "execution_count": null,
   "metadata": {
    "id": "GR4bQ-7Eb_QO"
   },
   "outputs": [],
   "source": [
    "donnees_iris_df['espèce'].unique()\n"
   ]
  },
  {
   "cell_type": "code",
   "execution_count": null,
   "metadata": {
    "id": "vqvf1y4jb_QP"
   },
   "outputs": [],
   "source": [
    "donnees_iris_df['longueur_sépales'].unique()\n"
   ]
  },
  {
   "cell_type": "markdown",
   "metadata": {
    "id": "d_qPQCpDb_QP"
   },
   "source": [
    "Note: Les valeurs `nan`, `NaN` => Not a Number, dénotent le plus souvent des valeurs manquantes. Ici, il y en a pas."
   ]
  },
  {
   "cell_type": "markdown",
   "metadata": {
    "id": "ZXi38l2Xb_QP"
   },
   "source": [
    "### Examen des distributions des attributs numériques et des attributs catégoriels\n",
    "\n",
    "#### Boîte à moustaches\n",
    "Une boîte à moustaches (whisker box) est une méthode d'affichage permettant de représenter graphiquement la distribution des données sur la base de cinq valeurs (le «minimum», le premier quartile (Q1), la médiane (ligne du milieu), le troisième quartile (Q3) et le «maximum»). Un cadre s'étend des valeurs du quartile Q1 au quartile Q3 des données, avec une ligne à la médiane (Q2). Les moustaches s’étendent à partir des bords de la boîte pour indiquer la plage des données.\n",
    "<br/><br/>\n",
    "<img style=\"float:left;\" src=\"https://cours.edulib.org/asset-v1:Cegep-Matane+VAERN.1FR+P2021+type@asset+block@Boi_te_a__moustache.png\" width=300/>\n",
    "<br/><br/><br/>\n",
    "<p> Note: Dans les boîtes à moustaches plus bas, nous avons ajouté une ligne pointillée pour indiquer la moyenne.</p>\n",
    "<p>La boîte à moustaches peut renseigner sur les anomalies ou valeurs aberrantes (outliers). Elle peut également vous indiquer à quel point vos données sont groupées et si vos données sont distribuées symétriquement ou asymétriquement.</p>"
   ]
  },
  {
   "cell_type": "code",
   "execution_count": null,
   "metadata": {
    "id": "3Bj4F33Lb_QP",
    "scrolled": false
   },
   "outputs": [],
   "source": [
    "import pandas as pd\n",
    "from matplotlib import pyplot as plt\n",
    "%matplotlib inline\n",
    "from pandas.api.types import is_string_dtype, is_numeric_dtype \n",
    "\n",
    "NBR_MAX_ATTRIBUTS_AFFICHES = 50\n",
    "\n",
    "# Créer une boîte à moustaches ou une listes de valeurs possibles\n",
    "# pour chaque attribut ou colonne d'un tableau de données\n",
    "\n",
    "# Propriétés pour changer le style des boîtes à moustaches\n",
    "boite_props = dict(color='#146496',linestyle='solid', linewidth=2, )\n",
    "anomalies_props = dict(color='red', marker='X', markerfacecolor=None, markersize=8, linewidth=4)\n",
    "mediane_props = dict(color='orange', linestyle='solid', linewidth=2)\n",
    "moyenne_props = dict(color='orange', marker=None, markeredgecolor=None, linestyle='dotted', linewidth=2)\n",
    "moustaches_props=dict(color='#146496', linewidth=2)\n",
    "\n",
    "def examen_distributions_attributs(un_dataframe):\n",
    "    for attribut in un_dataframe.columns:\n",
    "        # Afficher le type d'atribut\n",
    "        print(\"-\"*90)\n",
    "        print(\"Attribut:\",attribut,\", Type:\",un_dataframe.dtypes[attribut])\n",
    "        # Si c'est un attribut catégoriel alors lister toutes les valeurs possibles\n",
    "        if is_string_dtype(un_dataframe[attribut]):\n",
    "            attributs_uniques = list(un_dataframe[attribut].unique())\n",
    "            print(\"Nombre d'attributs_uniques:\",len(attributs_uniques))\n",
    "            if len(attributs_uniques) > NBR_MAX_ATTRIBUTS_AFFICHES:\n",
    "                print(\"Affichage des \" + str(NBR_MAX_ATTRIBUTS_AFFICHES) + \" premières valeurs:\")\n",
    "                print(attributs_uniques[:NBR_MAX_ATTRIBUTS_AFFICHES])\n",
    "            else:\n",
    "                print(attributs_uniques)\n",
    "                print(\"\\nun_dataframe.groupby('\"+attribut+\"').size()\\n\",un_dataframe.groupby(attribut).size())\n",
    "        if is_numeric_dtype(un_dataframe[attribut]):\n",
    "            fig = plt.figure(figsize=(12,12))\n",
    "            plt.subplot(2,2,1)\n",
    "            plt.boxplot(un_dataframe[attribut],\n",
    "                        meanline=True,showmeans=True,\n",
    "                        boxprops=boite_props,\n",
    "                        flierprops=anomalies_props,\n",
    "                        medianprops=mediane_props,\n",
    "                        meanprops=moyenne_props,\n",
    "                        whiskerprops=moustaches_props,\n",
    "                       )\n",
    "            plt.subplot(2,2,2)\n",
    "            plt.hist(un_dataframe[attribut], \n",
    "                     edgecolor='white', \n",
    "                     linewidth=1.0, \n",
    "                     bins=round(len(un_dataframe[attribut])**0.5))\n",
    "            plt.axvline(un_dataframe[attribut].mean(), \n",
    "                        color='orange', \n",
    "                        linestyle='dashed', \n",
    "                        linewidth=2)\n",
    "            plt.axvline(un_dataframe[attribut].median(), \n",
    "                        color='orange', \n",
    "                        linestyle='solid', \n",
    "                        linewidth=2)\n",
    "        plt.show() \n",
    "        print()\n",
    "    print(\"-\"*90)\n",
    "\n",
    "examen_distributions_attributs(donnees_iris_df)"
   ]
  },
  {
   "cell_type": "markdown",
   "metadata": {
    "id": "zjeynrl_b_QQ"
   },
   "source": [
    "### Échantillonnage - fonction Dataframe `.sample()`\n",
    "\n",
    "En utilisant la fonction `.sample()` de DataFrame, nous allons choisir au hasard 12 exemplaires de données. \n",
    "\n",
    "Le paramètre `random_state` fixé arbitrairement à 42 assure que le tirage est reproductible\n",
    "<hr/>\n",
    "Note culture: <a ref=\"https://fr.wikipedia.org/wiki/42_(nombre)#Fiction\">42 est la réponse à la grande question dans 'Le Guide du voyageur galactique'</a>. "
   ]
  },
  {
   "cell_type": "code",
   "execution_count": null,
   "metadata": {
    "id": "IzGdOjw6b_QR"
   },
   "outputs": [],
   "source": [
    "donnees_iris_df.sample(n= 12, random_state=42)"
   ]
  },
  {
   "cell_type": "markdown",
   "metadata": {
    "id": "xKh6E8MCb_QS"
   },
   "source": [
    "### Valeurs manquantes - fonction DataFrame `.isnull()`\n",
    "\n",
    "Rappel - Les valeurs `nan`, `NaN` => Not a Number, dénotent le plus souvent des valeurs manquantes.\n",
    "Plusieurs raisons, données non recueillies, données non pertinentes, données gardées secrètes, erreurs de saisie, etc."
   ]
  },
  {
   "cell_type": "code",
   "execution_count": null,
   "metadata": {
    "id": "it7oeQHPb_QS"
   },
   "outputs": [],
   "source": [
    "print(\"-\"*90)\n",
    "print(\"Nombre de valeurs manquantes par attribut (colonne):\\n\",donnees_iris_df.isnull().sum())\n",
    "print(\"-\"*90)\n",
    "print(\"Nombre total de valeurs manquantes:\",donnees_iris_df.isnull().sum().sum())\n",
    "print(\"-\"*90)"
   ]
  },
  {
   "cell_type": "markdown",
   "metadata": {
    "id": "AS20ClyFb_QS"
   },
   "source": [
    "Nous constatons que dans le cas du jeu de données Iris, il n'y a pas de valeurs manquantes.\n",
    "\n",
    "S'il y avait des valeurs manquante, une fois identifiées, il faudrait décider comment traiter ces valeurs manquantes. En gros on a le choix entre leur retrait ou leur remplacement."
   ]
  },
  {
   "cell_type": "markdown",
   "metadata": {
    "id": "p6ri9VKSb_QS"
   },
   "source": [
    "### Examen direct des valeurs des attributs - fonction DataFrame `.values`"
   ]
  },
  {
   "cell_type": "code",
   "execution_count": null,
   "metadata": {
    "id": "DDlc0ImMb_QS",
    "scrolled": true
   },
   "outputs": [],
   "source": [
    "donnees_iris_df.values\n"
   ]
  },
  {
   "cell_type": "markdown",
   "metadata": {
    "id": "FYNlko6Mb_QS"
   },
   "source": [
    "### Recherche des valeurs aberrantes et des cas particuliers (outliers)\n",
    "\n",
    "À cette étape, il est pertinent de rechercher les valeurs aberrantes (en anglais, outliers) et des cas particuliers. \n",
    "\n",
    "Entre autres on jettera un coup d'oeil sur les valeurs `min` et `max` de la fonction `.describe()`\n",
    "\n",
    "Une fois identifiées, il faudra décider comment traiter ces valeurs aberrantes, avec des techniques analogues aux valeurs manquantes, soit leur retrait ou leur remplacement."
   ]
  },
  {
   "cell_type": "markdown",
   "metadata": {
    "id": "vYcO5toSb_QT"
   },
   "source": [
    "### Retrait d'attributs avec la fonction DataFrame `.drop()`\n",
    "\n",
    "Utilisation de la fonction pandas `drop()` avec en argument une liste des noms d'attributs à enlever, par exemple ici `['espèces']` et l'axe du DataFrame concerné, ici ce sont les colonnes `axis='columns'` ou `axis=1`.\n",
    "\n",
    "On peut affecter le résultat à une nouvelle variable, ici `donnees_iris_sans_especes_df`. On peut également réaffecter le résultat à la même variable `donnees_iris_df` ou en utilisant le paramètre `inplace=True` pour éviter l'opération d'affectation."
   ]
  },
  {
   "cell_type": "code",
   "execution_count": null,
   "metadata": {
    "id": "z9FlxwxLb_QT"
   },
   "outputs": [],
   "source": [
    "donnees_iris_sans_espece_df = donnees_iris_df.drop(['espèce'], \n",
    "                                                    axis='columns')\n",
    "donnees_iris_sans_espece_df.head()"
   ]
  },
  {
   "cell_type": "markdown",
   "metadata": {
    "id": "Zq3207Wab_QT"
   },
   "source": [
    "## Statistiques\n",
    "\n",
    "* Statistiques de base: compte, fréquence\n",
    "* Statistiques descriptives: moyenne, écart-type, variance\n",
    "* Identification de données aberrantes\n",
    "\n",
    "###  Statistiques primaires - compte / fréquence\n",
    "\n",
    "* Nombre et fréquence\n",
    "* Minimum, maximum\n",
    "\n",
    "#### Note: \n",
    "\n",
    "Les statistiques répondent souvent à des questions que l'on se pose sur les données."
   ]
  },
  {
   "cell_type": "markdown",
   "metadata": {
    "id": "6il1lgG4b_QT"
   },
   "source": [
    "### Afficher le nombre d'exemplaires de données (lignes dans le tableau de données)\n",
    "\n",
    "#### Le nombre de fleurs dans le fichier de données  "
   ]
  },
  {
   "cell_type": "code",
   "execution_count": null,
   "metadata": {
    "id": "kqOGinOTb_QT"
   },
   "outputs": [],
   "source": [
    "print(len(donnees_iris_df))"
   ]
  },
  {
   "cell_type": "markdown",
   "metadata": {
    "id": "JGSqtnoOb_QT"
   },
   "source": [
    "#### Le nombre de fleurs regroupés par espèce - fonction DataFrame `.groupby()`"
   ]
  },
  {
   "cell_type": "code",
   "execution_count": null,
   "metadata": {
    "id": "8jdV-o0cb_QT"
   },
   "outputs": [],
   "source": [
    "print(donnees_iris_df.groupby(['espèce']).size())"
   ]
  },
  {
   "cell_type": "markdown",
   "metadata": {
    "id": "z-_R1CKIb_QU"
   },
   "source": [
    "#### Trouver la longueur de pétales la plus petite du jeu de données - fonction `.min()` "
   ]
  },
  {
   "cell_type": "code",
   "execution_count": null,
   "metadata": {
    "id": "5CrZnwuDb_QU"
   },
   "outputs": [],
   "source": [
    "print(donnees_iris_df[\"longueur_pétales\"].min())\n"
   ]
  },
  {
   "cell_type": "markdown",
   "metadata": {
    "id": "4ZFHcbyIb_QU"
   },
   "source": [
    "#### Trouver la longueur du plus long sépale du jeu de données  - fonction `.max()` "
   ]
  },
  {
   "cell_type": "code",
   "execution_count": null,
   "metadata": {
    "id": "Ioqv11gtb_QU"
   },
   "outputs": [],
   "source": [
    "print(donnees_iris_df[\"longueur_sépales\"].max())\n"
   ]
  },
  {
   "cell_type": "markdown",
   "metadata": {
    "id": "g479QOvvb_QU"
   },
   "source": [
    "#### Le nombre de fleurs avec des pétales de 5 cm et plus"
   ]
  },
  {
   "cell_type": "code",
   "execution_count": null,
   "metadata": {
    "id": "Tx4BrWJib_QV"
   },
   "outputs": [],
   "source": [
    "print(donnees_iris_df[donnees_iris_df[\"longueur_pétales\"]>= 5]['longueur_pétales'].count())\n"
   ]
  },
  {
   "cell_type": "markdown",
   "metadata": {
    "id": "-2YvnvXJb_QV"
   },
   "source": [
    "### Statistiques descriptives usuelles - moyenne, médiane, écart-type et variance\n",
    "\n",
    "* Mesures de tendances centrales: moyenne et médiane\n",
    "* Mesures de dispersion: variance et écart-type"
   ]
  },
  {
   "cell_type": "markdown",
   "metadata": {
    "id": "CpY9J71Zb_QV"
   },
   "source": [
    "#### Retour sur la fonction `.describe()`"
   ]
  },
  {
   "cell_type": "code",
   "execution_count": null,
   "metadata": {
    "id": "07V_KfOKb_QV"
   },
   "outputs": [],
   "source": [
    "donnees_iris_df.describe()\n"
   ]
  },
  {
   "cell_type": "markdown",
   "metadata": {
    "id": "BZZagrxrb_QV"
   },
   "source": [
    "#### Quelle est la longueur moyenne des sépales des fleurs du jeu de données - fonction `.mean()` \n"
   ]
  },
  {
   "cell_type": "code",
   "execution_count": null,
   "metadata": {
    "id": "TTi38EGTb_QV"
   },
   "outputs": [],
   "source": [
    "print(\"La longueur moyenne des sépales:\",'{:,.2f}'.format(donnees_iris_df['longueur_sépales'].mean()))"
   ]
  },
  {
   "cell_type": "markdown",
   "metadata": {
    "id": "vMRY3W5-b_QW"
   },
   "source": [
    "#### Quelle est la longueur médiane des sépales des fleurs du jeu de données - fonction `.median()` \n",
    "\n",
    "Note: La médiane partage les données en deux groupes égaux: 50% des fleurs ont des sépales moins longs que la médiane et 50% ont des longueurs au dessus de la médiane."
   ]
  },
  {
   "cell_type": "code",
   "execution_count": null,
   "metadata": {
    "id": "NqSTGhNlb_QW"
   },
   "outputs": [],
   "source": [
    "print(\"La longueur médiane des sépales:\",'{:,.2f}'.format(donnees_iris_df['longueur_sépales'].median()))"
   ]
  },
  {
   "cell_type": "markdown",
   "metadata": {
    "id": "iVYi5wWZb_QW"
   },
   "source": [
    "####  Comment se répartit statistiquement la longueur des sépales? - fonctions `.std()` et `.var()`"
   ]
  },
  {
   "cell_type": "code",
   "execution_count": null,
   "metadata": {
    "id": "HzO2WndEb_QW"
   },
   "outputs": [],
   "source": [
    "print(\"L'écart-type de la longueur des sépales:\",'{:,.2f}'.format(donnees_iris_df['longueur_sépales'].std()))\n",
    "print(\"La variance de la longueur des sépales:\",'{:,.2f}'.format(donnees_iris_df['longueur_sépales'].var()))\n"
   ]
  },
  {
   "cell_type": "code",
   "execution_count": null,
   "metadata": {
    "id": "xvG0Ji0Xb_QW"
   },
   "outputs": [],
   "source": [
    "# Avec une boîte à moustaches\n",
    "_ = donnees_iris_df.boxplot('longueur_sépales', figsize=(4, 6))\n"
   ]
  },
  {
   "cell_type": "markdown",
   "metadata": {
    "id": "FSIJhAMkb_QW"
   },
   "source": [
    "## Visualisation des données\n",
    "\n",
    "Le savoir est le pouvoir, mais pour que la connaissance des données devienne puissance, il faut afficher les résultats de l’analyse des données de manière convaincante. C’est là que la visualisation des données entre en jeu. \n",
    "Avec davantage de données disponibles que jamais auparavant, les opportunités de visualisation sont à la fois riches et abondantes.\n",
    "\n",
    "* La capacité de visualiser et faire comprendre des volumes importants de données, souvent pêle-mêle, et d'y faire ressortir des informations importantes est une compétence clé de la science des données\n",
    "* Faire parler visuellement des données, faire que les données racontent une histoire"
   ]
  },
  {
   "cell_type": "markdown",
   "metadata": {
    "id": "RYJAckOdb_QW"
   },
   "source": [
    "### Motivation - Exemples fameux de visualisation\n",
    "\n",
    "#### La campagne de Russie\n",
    "La fameuse visualisation de la campagne de Russie de Napoléon par <a href=\"https://fr.wikipedia.org/wiki/Charles_Joseph_Minard\">Charles Joseph  Minard</a>\n",
    "<p>Le plus important à savoir est que la largeur du tracé représente le nombre de soldats de la Grande Armée de Napoléon de 1804 à 1814. On la voit rétrécir tout le long de la campagne de Russie à l'aller (en marron) jusqu'à Moscou, pour revenir en France décimée (en noir), sous la forme d'un mince filet.</p>\n",
    "<br/>\n",
    "<figure style=\"text-align:center\">\n",
    "  <img src=\"https://cours.edulib.org/asset-v1:Cegep-Matane+VAERN.1FR+P2021+type@asset+block@ScDo-Minard.png\" width='900' />\n",
    "  <figcaption>Visualisation des pertes de la campagne napoléonienne de Russie 1812-1813 - Source: <a href=\"https://fr.wikipedia.org/wiki/Charles_Joseph_Minard#/media/Fichier:Minard.png\" target=\"_blank\">Wikipédia</a></figcaption>\n",
    "</figure>"
   ]
  },
  {
   "cell_type": "markdown",
   "metadata": {
    "id": "Qna2PZhpb_QX"
   },
   "source": [
    "#### Visualisation de l'évolution de l'économie mondiale depuis 200 ans  \n",
    "\n",
    "Présentation de <a href=\"https://fr.wikipedia.org/wiki/Hans_Rosling\">Hans Rosling</a>, statisticien, médecin spécialiste de la santé publique, conférencier, auteur de <a href=\"https://www.lemonde.fr/m-actu/article/2018/09/13/factfulness-le-livre-qui-demele-le-fait-du-faux_5354297_4497186.html\">Factfulness</a> et fondateur de <a href=\"https://www.gapminder.org/\">Gapminder</a>. Décédé en 2017. M. Rosling réalise des visualisations percutantes de données statistiques sur le développement économique et la santé sur le plan international.\n",
    "Source: YouTube "
   ]
  },
  {
   "cell_type": "code",
   "execution_count": null,
   "metadata": {
    "id": "Q5fhPfd6b_QX"
   },
   "outputs": [],
   "source": [
    "from IPython.display import Audio,Image, YouTubeVideo\n",
    "id='jbkSRLYSojo'\n",
    "YouTubeVideo(id=id,width=600,height=300,hl='fr',cc_load_policy=1,cc_lang_pref='fr')"
   ]
  },
  {
   "cell_type": "markdown",
   "metadata": {
    "id": "cHV0K0H6b_QX"
   },
   "source": [
    "#### D'autres exemples de visualisation de haute qualité\n",
    "\n",
    "<ul>\n",
    "  <ul>\n",
    "\t<li><a href=\"https://informationisbeautiful.net/visualizations/which-fish-best-safest-healthy-to-eat/\" target='_blank'>Pêche durable - Which fish are okay to eat?</a> - Information is Beautiful</li>\n",
    "\t<li><a href=\"http://bit.ly/2JLyZOp\" target='_blank'>L'univers à différentes échelles - Universcale</a> - Nikon</li>\n",
    "\t<li><a href=\"https://bit.ly/3IkQ90M\" target='_blank'>La spirale du réchauffement</a> - NASA</li>\n",
    "    <!-- <li><a href=\"http://hereistoday.com/\" target='_blank'>Échelle de temps</a></li> !-->\n",
    "\t<li><a href=\"http://bit.ly/2oGhZSs\" target='_blank'>Produits de la mer (algues) - How kelp seaweed can save the world?</a> - Information is Beautiful</li>\n",
    "\t<li><a href=\"https://bit.ly/3ieHXEP\" target='_blank'>Le commerce mondial</a> - GEDVIZ</li>\n",
    "\t<li><a href=\"http://bit.ly/2oKWujA\" target='_blank'>Les brèches de données confidentielles</a> - Information is Beautiful</li>\n",
    "    <li><a href=\"https://bit.ly/3ImEjDB\" target='_blank'>La circulation des vents</a> - earth.nullschool.net</li>\n",
    "\t<li><a href=\"https://www.youtube.com/embed/K5Dyre-1LGM?cc_load_policy=1&autoplay=1\" target='_blank'>Chronologie de la musique</a> - Google</li>\n",
    "\t<li><a href=\"http://bit.ly/2WEdrZj\" target='_blank'>Les arbres de New-York</a>  - Cloudred</li>\n",
    "\t<li><a href=\"https://cnn.it/2qfSloc\" target='_blank'>La diversité des générations</a> - CNN Interactive</li>\n",
    "\t<li><a href=\"http://bit.ly/2oDIiZs\" target='_blank'>Comment réduire les GES</a> - Information is Beautiful</li>\n",
    "\t<li><a href=\"http://bit.ly/2N9f2U0\" target='_blank'>Les animaux disparus</a> - James Round</li>\n",
    "\t<li><a href=\"https://podio.com/site/creative-routines\" target='_blank'>La routine quotidienne de célébrités</a> - Podio</li>\n",
    "  </ul>\n",
    "</ul>"
   ]
  },
  {
   "cell_type": "markdown",
   "metadata": {
    "id": "1qKMyE9wb_QX"
   },
   "source": [
    "### Visualisation simple - exemples\n"
   ]
  },
  {
   "cell_type": "markdown",
   "metadata": {
    "id": "WfLHQVMyb_QX"
   },
   "source": [
    "#### Tarte / camembert de la distribution des valeurs d'un attribut"
   ]
  },
  {
   "cell_type": "code",
   "execution_count": null,
   "metadata": {
    "id": "unu5YOGMb_QX"
   },
   "outputs": [],
   "source": [
    "from matplotlib import pyplot as plt\n",
    "_ = plt.figure(figsize=(5, 5))\n",
    "(donnees_iris_df.groupby(['espèce']).size()).plot(kind='pie', \n",
    "                                                 colors=['b','g','y'],\n",
    "                                                 title=u\"Tarte - Répartition des espèces\")\n",
    "plt.ylabel(\"\") # to remove None label on y-axis\n",
    "plt.show()"
   ]
  },
  {
   "cell_type": "markdown",
   "metadata": {
    "id": "ak_Q42vJb_QY"
   },
   "source": [
    "#### Histogramme vertical de la distribution des valeurs d'un attribut"
   ]
  },
  {
   "cell_type": "code",
   "execution_count": null,
   "metadata": {
    "id": "QWWZ0iacb_QY"
   },
   "outputs": [],
   "source": [
    "from matplotlib import pyplot as plt\n",
    "plt.figure(figsize=(3, 5))\n",
    "(donnees_iris_df.groupby(['espèce']).size()).plot(kind='bar', \n",
    "                                                 color=['b','g','y'],\n",
    "                                                 title=u\"Histogramme - Répartition des espèces\")\n",
    "plt.show()\n"
   ]
  },
  {
   "cell_type": "markdown",
   "metadata": {
    "id": "PZ4dZxkRb_QY"
   },
   "source": [
    "#### Histogramme horizontal de la distribution des valeurs d'un attribut"
   ]
  },
  {
   "cell_type": "code",
   "execution_count": null,
   "metadata": {
    "id": "kDhAI14gb_QY",
    "scrolled": true
   },
   "outputs": [],
   "source": [
    "from matplotlib import pyplot as plt\n",
    "plt.figure(figsize=(5, 3))\n",
    "(donnees_iris_df.groupby(['espèce']).size()).plot(kind='barh', \n",
    "                                                 color=['b','g','y'], \n",
    "                                                 title=u\"Histogramme - Répartition des espèces\")\n",
    "plt.show()\n"
   ]
  },
  {
   "cell_type": "markdown",
   "metadata": {
    "id": "XaFtBhdsrB4B"
   },
   "source": [
    "#### Visualisation trompeuse\n",
    "\n",
    "##### Graphique trompeur qui ne commence pas à zéro\n",
    "\n",
    "Parfois, on peut enfreindre cette règle, mais en général les graphiques à barres doivent toujours commencer à 0, car nous sommes très sensibles à la taille relative des barres. Étant donné que l'axe des y ne commence pas à 0, il est facile de tromper quelqu'un pour l'amener à croire que le gaz naturel émet vraiment beaucoup moins de GES (gaz à effet de serre) que le charbon. La tromperie a été accentuée par l'utilisation de couleurs comme le vert pour le gaz naturel et le noir pour le charbon.\n",
    "\n",
    "Source des données: https://www.hydroquebec.com/a-propos/notre-energie.html"
   ]
  },
  {
   "cell_type": "code",
   "execution_count": null,
   "metadata": {
    "id": "5c2duhEMrQjm"
   },
   "outputs": [],
   "source": [
    "from matplotlib import pyplot as plt\n",
    "import matplotlib.pyplot as plt\n",
    "import numpy as np\n",
    "\n",
    "# Source données: https://www.hydroquebec.com/a-propos/notre-energie.html\n",
    "emissions_GES = np.array([608, 780])\n",
    "filieres_energetiques = [\"gaz naturel\",\"charbon\"]\n",
    "couleurs_filieres = ['green', 'black']\n",
    "plt.figure(figsize=(6,6))\n",
    "plt.title(\"Estimation des émissions de GES (g CO2 éq./kWh)\", color='black')\n",
    "plt.bar(filieres_energetiques,emissions_GES,color=couleurs_filieres)\n",
    "ax = plt.gca()\n",
    "ax.set_ylim([600, 800])\n",
    "for xtick, color in zip(ax.get_xticklabels(), couleurs_filieres):\n",
    "    xtick.set_color(color)\n",
    "plt.show()"
   ]
  },
  {
   "cell_type": "markdown",
   "metadata": {
    "id": "2wZfun5rrXVz"
   },
   "source": [
    "##### Visualisation honnête"
   ]
  },
  {
   "cell_type": "code",
   "execution_count": null,
   "metadata": {
    "id": "1ON7aztzrcmD"
   },
   "outputs": [],
   "source": [
    "# Source données: https://www.hydroquebec.com/a-propos/notre-energie.html\n",
    "emissions_GES = np.array([608, 780])\n",
    "filieres_energetiques = [\"gaz naturel\",\"charbon\"]\n",
    "plt.figure(figsize=(6,6))\n",
    "plt.title(\"Estimation des émissions de GES (g CO2 éq./kWh)\", color='black')\n",
    "plt.bar(filieres_energetiques,emissions_GES)\n",
    "plt.show()"
   ]
  },
  {
   "cell_type": "markdown",
   "metadata": {
    "id": "273G82TSrlPu"
   },
   "source": [
    "On voit qu'il faut davantage de code pour tromper!\n",
    "\n"
   ]
  },
  {
   "cell_type": "markdown",
   "metadata": {
    "id": "Ry87yPmEb_QY"
   },
   "source": [
    "### Visualisation des relations entre les attributs\n",
    "\n",
    "Une étape importante dans l'analyse des données est la recherche de relations entre des attributs (ou variables) qui caractérisent nos données.\n",
    "\n",
    "Parmi les analyses typiques, nous avons la recherche de corrélations, d'information mutuelle et la covariance.\n"
   ]
  },
  {
   "cell_type": "markdown",
   "metadata": {
    "id": "bY8a5skBb_QY"
   },
   "source": [
    "#### Analyse des corrélations - fonction `.corr()`\n",
    "\n",
    "Les étapes suivantes de l'analyse des données vont s’attacher à trouver des corrélations, à relever des tendances, identifier des relations, reconnaître des formes, des structures et des comportements et même faire des prédictions.\n",
    "\n",
    "En science des données on utilise principalement la corrélation pour comprendre la relation entre les variables.Par exemple examinons les différentes corrélations entre les attributs du jeu de données des fleurs d'iris.\n",
    "\n",
    "En statistique, la corrélation entre variables dénote une dépendance. Le plus souvent, il s'agit de la corrélation linéaire ou coefficient de corrélation de Pearson toujours compris entre 0 et 1. Un coefficient nul n’implique pas indépendance, car d’autres types de corrélation sont possibles. Attention! Le fait que deux variables soient « fortement corrélées » n'implique pas qu'il y ait une relation de causalité.\n",
    "\n",
    "Les corrélations peuvent être positives (les deux variables croissent), négatives (une variable baisse pendant que l'autre croît) ou nulles (non corrélées). "
   ]
  },
  {
   "cell_type": "markdown",
   "metadata": {
    "id": "MpQGY566b_QY"
   },
   "source": [
    "#### Transformation d'un attribut catégoriel en attributs binaires - fonction Pandas `get_dummies()`\n",
    "\n",
    "On peut transformer un attribut catégoriel en n attributs binaires selon un encodage à un bit vrai (en anglais, one-hot-encoding)"
   ]
  },
  {
   "cell_type": "code",
   "execution_count": null,
   "metadata": {
    "id": "FzmF_Fq8b_QY"
   },
   "outputs": [],
   "source": [
    "donnees_iris_bin_df = pd.get_dummies(donnees_iris_df,prefix=['espèce'], columns = ['espèce'])\n",
    "donnees_iris_bin_df.head()"
   ]
  },
  {
   "cell_type": "code",
   "execution_count": null,
   "metadata": {
    "id": "Q28WKDApb_QZ"
   },
   "outputs": [],
   "source": [
    "donnees_iris_bin_df.corr()"
   ]
  },
  {
   "cell_type": "markdown",
   "metadata": {
    "id": "gnKk6ZS5b_QZ"
   },
   "source": [
    "#### Visualisation des corrélations - corrélogramme\n",
    "Maintenant rendons ces résultats plus visibles en ajoutant de la couleur...\n",
    "Ici le rouge indique une corrélation positive, le blanc la neutralité et le bleu une corrélation négative. Évidemment, la diagonale est rouge vif!"
   ]
  },
  {
   "cell_type": "code",
   "execution_count": null,
   "metadata": {
    "id": "hQcFNIvqb_QZ"
   },
   "outputs": [],
   "source": [
    "import matplotlib.pyplot as plt\n",
    "import matplotlib.ticker as mticker\n",
    "%matplotlib inline\n",
    "\n",
    "# Une rustine un peu compliquée pour faire correspondre 0.0 à la couleur blanche\n",
    "# https://stackoverflow.com/questions/20144529/shifted-colorbar-matplotlib/20146989#20146989\n",
    "from matplotlib.colors import Normalize\n",
    "\n",
    "class MidpointNormalize(Normalize):\n",
    "\n",
    "    def __init__(self, vmin=None, vmax=None, midpoint=None, clip=False):\n",
    "        self.midpoint = midpoint\n",
    "        Normalize.__init__(self, vmin, vmax, clip)\n",
    "\n",
    "    def __call__(self, value, clip=None):\n",
    "        x, y = [self.vmin, self.midpoint, self.vmax], [0, 0.5, 1]\n",
    "        return np.ma.masked_array(np.interp(value, x, y))\n",
    "\n",
    "norm = MidpointNormalize(midpoint=0)\n",
    "    \n",
    "alpha = [\"longueur_sépales\",\"largeur_sépales\",\"longueur_pétales\",\"largeur_pétales\",\n",
    "         \"espèce_Iris-setosa\",\"espèce_Iris-versicolor\",\"espèce_Iris-virginica\"]\n",
    "\n",
    "fig = plt.figure(figsize=(7,7))\n",
    "ax = fig.add_subplot(111)\n",
    "cax = ax.matshow(donnees_iris_bin_df.corr(), norm=norm, cmap='bwr', interpolation='nearest')\n",
    "fig.colorbar(cax)\n",
    "\n",
    "# 2 lignes suivantes, une rustine pour éviter un avertissement\n",
    "# UserWarning: FixedFormatter should only be used together with FixedLocator\n",
    "# https://stackoverflow.com/questions/63723514/userwarning-fixedformatter-should-only-be-used-together-with-fixedlocator\n",
    "ticks_loc = ax.get_xticks().tolist()[:-1]\n",
    "ax.xaxis.tick_bottom()\n",
    "ax.xaxis.set_major_locator(mticker.FixedLocator(ticks_loc))\n",
    "# Afficher les noms des attributs selon l'axe horizontal\n",
    "ax.set_xticklabels(['']+alpha,rotation=60)\n",
    "\n",
    "# 2 lignes suivantes, une rustine pour éviter un avertissement (voir plus haut)\n",
    "ticks_loc = ax.get_yticks().tolist()[:-1]\n",
    "ax.yaxis.set_major_locator(mticker.FixedLocator(ticks_loc))\n",
    "# Afficher les noms des attributs selon l'axe vertical\n",
    "ax.set_yticklabels(['']+alpha)\n",
    "\n",
    "plt.title(\"Corrélogramme\",fontsize=25)\n",
    "plt.show()"
   ]
  },
  {
   "cell_type": "markdown",
   "metadata": {
    "id": "W8p22bMNb_QZ"
   },
   "source": [
    "##### Résultats\n",
    "\n",
    "On voit que:\n",
    "\n",
    "* \"espèce_Iris-setosa\"\n",
    "    * corrélée moyennement positivement avec largeur_sépales\n",
    "    * corrélée fortement négativement avec longueur_sépales, longueur_pétales, largeur_pétales\n",
    "* \"espèce_Iris-versicolor\"\n",
    "    * corrélée faiblement positivement avec longueur_pétales\n",
    "    * corrélée moyennement négativement avec largeur_sépales\n",
    "* \"espèce_Iris-virginica\"\n",
    "    * corrélée fortement positivement avec largeur_pétales\n",
    "    * corrélée moyennement positivement avec longueur_sépales, longueur_pétales\n",
    "    * corrélée faiblement négativement avec largeur_sépales"
   ]
  },
  {
   "cell_type": "markdown",
   "metadata": {
    "id": "NeQZ2lRNb_QZ"
   },
   "source": [
    "#### Analyse de l'information mutuelle\n",
    "\n",
    "L'information mutuelle révèle une association, que l'association soit linéaire (ce que mesure la corrélation) ou non, alors que la corrélation peut être nulle et que les variables peuvent encore être stochastiquement dépendantes."
   ]
  },
  {
   "cell_type": "code",
   "execution_count": null,
   "metadata": {
    "id": "PzdP1QZab_QZ",
    "scrolled": true
   },
   "outputs": [],
   "source": [
    "# Code from: Entropy in machine learning - may 06 2019 - Francesco Gadaleta\n",
    "# https://gist.github.com/rlangone/71d93b68d38a89c6722f414fc96f4792\n",
    "\n",
    "# Import libraries\n",
    "import pandas as pd\n",
    "import numpy as np\n",
    "from scipy.stats import iqr\n",
    "from numpy import histogram2d\n",
    "from sklearn.metrics import mutual_info_score\n",
    "\n",
    "# Define mutual information function\n",
    "def mutual_info(x, y):\n",
    "    # Compute mutual information between x and y\n",
    "    bins_x = max(2,int(2*iqr(x)*len(x)**-(1/3))) # use Freedman-Diaconis's Rule of thumb\n",
    "    bins_y = max(2,int(2*iqr(y)*len(y)**-(1/3)))\n",
    "    c_xy = histogram2d(x, y, [bins_x,bins_y])[0]\n",
    "    mi = mutual_info_score(None, None, contingency=c_xy)\n",
    "    return mi\n",
    "\n",
    "# Build MI matrix\n",
    "num_features = donnees_iris_bin_df.shape[1]\n",
    "MI_matrix = np.zeros((num_features,num_features))\n",
    "for i,col_i in enumerate(donnees_iris_bin_df):\n",
    "    for j,col_j in enumerate(donnees_iris_bin_df):\n",
    "        MI_matrix[i,j] = mutual_info(donnees_iris_bin_df[col_i],donnees_iris_bin_df[col_j])\n",
    "MI_df = pd.DataFrame(MI_matrix,columns = donnees_iris_bin_df.columns, index = donnees_iris_bin_df.columns)\n",
    "MI_df"
   ]
  },
  {
   "cell_type": "code",
   "execution_count": null,
   "metadata": {
    "id": "Mc3yc5ntb_Qb"
   },
   "outputs": [],
   "source": [
    "import matplotlib.pyplot as plt\n",
    "import matplotlib.ticker as mticker\n",
    "%matplotlib inline\n",
    "\n",
    "# Une rustine un peu compliquée pour faire correspondre 0.0 à la couleur blanche\n",
    "# https://stackoverflow.com/questions/20144529/shifted-colorbar-matplotlib/20146989#20146989\n",
    "from matplotlib.colors import Normalize\n",
    "\n",
    "class MidpointNormalize(Normalize):\n",
    "\n",
    "    def __init__(self, vmin=None, vmax=None, midpoint=None, clip=False):\n",
    "        self.midpoint = midpoint\n",
    "        Normalize.__init__(self, vmin, vmax, clip)\n",
    "\n",
    "    def __call__(self, value, clip=None):\n",
    "        x, y = [self.vmin, self.midpoint, self.vmax], [0, 0.5, 1]\n",
    "        return np.ma.masked_array(np.interp(value, x, y))\n",
    "\n",
    "norm = MidpointNormalize(midpoint=0)\n",
    "    \n",
    "alpha = [\"longueur_sépales\",\"largeur_sépales\",\"longueur_pétales\",\"largeur_pétales\",\n",
    "         \"espèce_Iris-setosa\",\"espèce_Iris-versicolor\",\"espèce_Iris-virginica\"]\n",
    "\n",
    "fig = plt.figure(figsize=(7,7))\n",
    "ax = fig.add_subplot(111)\n",
    "cax = ax.matshow(MI_df, norm=norm, cmap='bwr', interpolation='nearest')\n",
    "fig.colorbar(cax)\n",
    "\n",
    "# 2 lignes suivantes, une rustine pour éviter un avertissement\n",
    "# UserWarning: FixedFormatter should only be used together with FixedLocator\n",
    "# https://stackoverflow.com/questions/63723514/userwarning-fixedformatter-should-only-be-used-together-with-fixedlocator\n",
    "ticks_loc = ax.get_xticks().tolist()[:-1]\n",
    "ax.xaxis.tick_bottom()\n",
    "ax.xaxis.set_major_locator(mticker.FixedLocator(ticks_loc))\n",
    "# Afficher les noms des attributs selon l'axe horizontal\n",
    "ax.set_xticklabels(['']+alpha,rotation=60)\n",
    "\n",
    "# 2 lignes suivantes, une rustine pour éviter un avertissement (voir plus haut)\n",
    "ticks_loc = ax.get_yticks().tolist()[:-1]\n",
    "ax.yaxis.set_major_locator(mticker.FixedLocator(ticks_loc))\n",
    "# Afficher les noms des attributs selon l'axe vertical\n",
    "ax.set_yticklabels(['']+alpha)\n",
    "\n",
    "plt.title(\"Matrice d'information Mutuelle\",fontsize=20)\n",
    "plt.show()"
   ]
  },
  {
   "cell_type": "markdown",
   "metadata": {
    "id": "03MDUF2Db_Qb"
   },
   "source": [
    "#### Visualisation de relations avec une matrice de nuage de points\n",
    "\n",
    "<strong>Matrice de nuages de points</strong>\n",
    "\n",
    "Une matrice de nuages de points (en anglais, scatter plot matrix) montre tous les nuages de points par paire d'attributs (ou variables) dans une seule vue selon une matrice ou grille carrée. Donc, pour K attributs, la matrice de nuages de points comprendra K lignes et K colonnes. Chaque nuage de points représente graphiquement la relation entre deux attributs (ou relation bivariée). La matrice de nuages de points permet donc de visualiser de nombreuses relations dans un seul diagramme.\n",
    "\n",
    "La diagonale de la matrice représente la relation d'un attribut avec lui-même, ce qui n'est pas vraiment intéressant. On la remplace par un histogramme montrant la distribution de l'attribut numérique. \n",
    "\n",
    "<strong>Nuage de points</strong>\n",
    "\n",
    "Un nuage de points (parfois appelé diagramme de dispersion) affiche un ensemble de points selon des coordonnées cartésiennes. La valeur d'un attribut détermine la position du point sur l'axe horizontal (ou axe x, abscisse) et la valeur de l'autre attribut détermine la position sur l'axe vertical (ou axe y, ordonnée). Un nuage de points suggère différents types de relations entre deux attributs (ou relations bivariées). \n",
    "\n",
    "<strong>Interprétation de la forme du nuage de points</strong>\n",
    "\n",
    "Visuellement, si la forme du nuage de points monte du bas à gauche vers le haut à droite, cela indique une corrélation positive entre les attributs étudiées. Si la forme du nuage de points descend du haut à gauche vers le bas à droite, cela indique une corrélation négative. Enfin, si la forme du nuage de points reste plutôt horizontale ou verticale cela signifie une corrélation nulle. \n",
    "\n",
    "La pente plus ou moins forte d'une droite de régression selon l'axe principal du nuage de points nous renseigne sur l'intensité de la corrélation, une pente plus forte étant associée à une corrélation plus forte.\n",
    "\n",
    "Note: On peut également colorer les points, modifier leur formes ou leur taille, selon différents critères dont la classe-cible.\n",
    "\n",
    "* Article de <a href=\"http://benalexkeen.com/scatter-matrices-using-pandas/\">Ben Alex Keen</a> "
   ]
  },
  {
   "cell_type": "code",
   "execution_count": null,
   "metadata": {
    "id": "oUx_BkbPb_Qc"
   },
   "outputs": [],
   "source": [
    "import matplotlib.patches as mpatches\n",
    "\n",
    "carte_couleurs = {\"Iris-setosa\":\"red\",\"Iris-versicolor\":\"blue\",\"Iris-virginica\":\"orange\"}\n",
    "liste_couleurs = list(map(lambda x:carte_couleurs.get(x),donnees_iris_df[\"espèce\"]))\n",
    "# diagonal peut être hist (histogramme) ou kde (Kernel Density Estimation) \n",
    "matrice_dispersion = pd.plotting.scatter_matrix(donnees_iris_df, diagonal=\"hist\", c=liste_couleurs, figsize=(10,10))\n",
    "# https://stackoverflow.com/questions/43217174/how-can-the-sizes-and-rotations-of-text-of-a-pandas-scatter-matrix-be-set\n",
    "for ax in matrice_dispersion.ravel():\n",
    "    ax.set_xlabel(ax.get_xlabel(), fontsize = 10, rotation = 0)\n",
    "    ax.set_ylabel(ax.get_ylabel(), fontsize = 10, rotation = 90)\n",
    "# https://stackoverflow.com/questions/26558816/matplotlib-scatter-plot-with-legend\n",
    "legende = []\n",
    "for c in range(0,len(set(liste_couleurs))):\n",
    "    legende.append(mpatches.Rectangle((0,0),1,1,fc=(list(carte_couleurs.values()))[c]))\n",
    "plt.legend(legende,tuple(carte_couleurs.keys()),loc='best')\n",
    "plt.suptitle('Matrice de nuages de points',fontsize=20)\n",
    "plt.show()"
   ]
  },
  {
   "cell_type": "markdown",
   "metadata": {
    "id": "awGHQ3Evb_Qc"
   },
   "source": [
    "On constate que les groupes formés par l'Iris sétosa sont facile à séparer des autres. Par contre il y a un léger recouvrement des groupes pour l'Iris versicolor et l'Iris virginica. Enfin, la longueur et la largeur des pétales sont fortement corrélés et permettent de séparer assez bien les trois espèces. "
   ]
  },
  {
   "cell_type": "markdown",
   "metadata": {
    "id": "WXmPZj03b_Qc"
   },
   "source": [
    "## Ressources utiles\n",
    "\n",
    "1) Pandas - https://pandas.pydata.org\n",
    "\n",
    "2) Tutoriels Pandas - https://pandas.pydata.org/pandas-docs/stable/getting_started/tutorials.html\n",
    "\n",
    "3) Aide mémoire Pandas - https://pandas.pydata.org/Pandas_Cheat_Sheet.pdf\n",
    "\n",
    "4) Expressions régulières - http://regex101.com/ - https://www.regular-expressions.info/tutorial.html\n",
    "\n",
    "5) Matplotlib - https://matplotlib.org/\n",
    "\n",
    "6) Tutoriels Matplotlib - https://matplotlib.org/3.1.1/tutorials/index.html\n",
    "\n",
    "7) Aide-mémoire Matplotlib - https://go.aws/2V5J9jz\n",
    "\n",
    "8) Seaborn - (Surcouche graphique à matplotlib) - https://seaborn.pydata.org/\n",
    "\n",
    "9) Pygal - (Bibliothèque graphique Python, surtout pour les cartes géographiques) - http://www.pygal.org/\n",
    "\n",
    "10) StackOverflow - https://stackoverflow.com"
   ]
  },
  {
   "cell_type": "code",
   "execution_count": null,
   "metadata": {
    "id": "GYt_oddGb_Qd"
   },
   "outputs": [],
   "source": [
    "print(\"Exécution du carnet web IPython terminée\")"
   ]
  }
 ],
 "metadata": {
  "colab": {
   "name": "Survol-Science_Des_Donnees-Iris.ipynb",
   "provenance": []
  },
  "kernelspec": {
   "display_name": "Python 3 (ipykernel)",
   "language": "python",
   "name": "python3"
  },
  "language_info": {
   "codemirror_mode": {
    "name": "ipython",
    "version": 3
   },
   "file_extension": ".py",
   "mimetype": "text/x-python",
   "name": "python",
   "nbconvert_exporter": "python",
   "pygments_lexer": "ipython3",
   "version": "3.10.9"
  }
 },
 "nbformat": 4,
 "nbformat_minor": 1
}
